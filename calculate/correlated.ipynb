{
 "cells": [
  {
   "cell_type": "code",
   "execution_count": 1,
   "metadata": {},
   "outputs": [],
   "source": [
    "from sympy import Matrix, I, sqrt, symbols, exp, cos, sin, Symbol\n",
    "\n",
    "del_1, del_2, delta = symbols(r\"\\delta_1, \\delta_2 \\delta\", real=True)\n",
    "\n",
    "H = X = Matrix([1, 0])\n",
    "V = Y = Matrix([0, 1])\n",
    "\n",
    "B = (1 / sqrt(2)) * Matrix([\n",
    "    [1, I],\n",
    "    [I, 1]\n",
    "])\n",
    "M = Matrix([\n",
    "    [0, 1],\n",
    "    [1, 0],\n",
    "])\n",
    "A = Matrix([\n",
    "    [exp(I * del_1), 0],\n",
    "    [0, exp(I * del_2)]\n",
    "])\n",
    "W2 = Matrix([\n",
    "    [1, 0],\n",
    "    [0, -1]\n",
    "])\n",
    "W4 = Matrix([\n",
    "    [1, 0],\n",
    "    [0, I]\n",
    "])\n",
    "H = (1 / sqrt(2)) * Matrix([\n",
    "    [1, 1],\n",
    "    [1, -1],\n",
    "])\n",
    "def R(t: float) -> Matrix:\n",
    "    return Matrix([\n",
    "        [cos(t), -sin(t)],\n",
    "        [sin(t), cos(t)]\n",
    "    ])\n",
    "\n",
    "def W2T(t: float)-> Matrix:\n",
    "    return R(t) * W2 * R(-t)\n",
    "\n",
    "def W4T(t: float)-> Matrix:\n",
    "    return R(t) * W4 * R(-t)\n",
    "\n",
    "def prob(i: Matrix, o: Matrix, p: Matrix):\n",
    "    return ((p * p.H * o * i).norm()**2).rewrite(cos).simplify()"
   ]
  },
  {
   "attachments": {},
   "cell_type": "markdown",
   "metadata": {},
   "source": [
    "## One qubit interferometer"
   ]
  },
  {
   "cell_type": "code",
   "execution_count": 23,
   "metadata": {},
   "outputs": [
    {
     "data": {
      "text/latex": [
       "$\\displaystyle \\frac{\\cos{\\left(\\delta_{1} - \\delta_{2} \\right)}}{2} + \\frac{1}{2}$"
      ],
      "text/plain": [
       "cos(\\delta_1 - \\delta_2)/2 + 1/2"
      ]
     },
     "execution_count": 23,
     "metadata": {},
     "output_type": "execute_result"
    }
   ],
   "source": [
    "prob(Y, B * A * B, X)"
   ]
  },
  {
   "cell_type": "code",
   "execution_count": 25,
   "metadata": {},
   "outputs": [
    {
     "data": {
      "text/latex": [
       "$\\displaystyle \\left[\\begin{matrix}0 & i\\\\i & 0\\end{matrix}\\right]$"
      ],
      "text/plain": [
       "Matrix([\n",
       "[0, I],\n",
       "[I, 0]])"
      ]
     },
     "execution_count": 25,
     "metadata": {},
     "output_type": "execute_result"
    }
   ],
   "source": [
    "from sympy import pi\n",
    "\n",
    "_A = Matrix([\n",
    "    [0, 1],\n",
    "    [1, 0]\n",
    "])\n",
    "\n",
    "# prob(Y, H * _A * H, X) .subs(del_2, pi / 4).evalf()\n",
    "\n",
    "(B * _A * M * B)"
   ]
  },
  {
   "attachments": {},
   "cell_type": "markdown",
   "metadata": {},
   "source": [
    "## Eraser"
   ]
  },
  {
   "cell_type": "code",
   "execution_count": 3,
   "metadata": {},
   "outputs": [
    {
     "data": {
      "text/latex": [
       "$\\displaystyle \\left[\\begin{matrix}0\\\\- \\frac{i e^{i \\delta_{1}}}{2} - \\frac{i e^{i \\delta_{2}}}{2}\\\\0\\\\\\frac{e^{i \\delta_{1}}}{2} - \\frac{e^{i \\delta_{2}}}{2}\\end{matrix}\\right]$"
      ],
      "text/plain": [
       "Matrix([\n",
       "[                                         0],\n",
       "[-I*exp(I*\\delta_1)/2 - I*exp(I*\\delta_2)/2],\n",
       "[                                         0],\n",
       "[     exp(I*\\delta_1)/2 - exp(I*\\delta_2)/2]])"
      ]
     },
     "execution_count": 3,
     "metadata": {},
     "output_type": "execute_result"
    }
   ],
   "source": [
    "from sympy import BlockMatrix, eye, zeros\n",
    "from sympy.physics.quantum import TensorProduct as ox\n",
    "\n",
    "theta = 0\n",
    "_W = Matrix(BlockMatrix([\n",
    "    [W2T(theta), zeros(2)],\n",
    "    [zeros(2), Matrix([[1, 0], [0, -1]])]\n",
    "]))\n",
    "\n",
    "Z = ox(B, eye(2)) * ox(A, eye(2)) * _W * ox(M, eye(2)) * ox(B, eye(2))\n",
    "\n",
    "Z * ox(X, V)"
   ]
  },
  {
   "attachments": {},
   "cell_type": "markdown",
   "metadata": {},
   "source": [
    "## Two photons in direction of propagation modes"
   ]
  },
  {
   "cell_type": "code",
   "execution_count": 112,
   "metadata": {},
   "outputs": [
    {
     "data": {
      "text/latex": [
       "$\\displaystyle \\frac{\\cos{\\left(\\delta_{1} - \\delta_{2} \\right)}}{2} + \\frac{\\cos{\\left(2 \\delta_{1} - 2 \\delta_{2} \\right)}}{8} + \\frac{3}{8}$"
      ],
      "text/plain": [
       "cos(\\delta_1 - \\delta_2)/2 + cos(2*\\delta_1 - 2*\\delta_2)/8 + 3/8"
      ]
     },
     "execution_count": 112,
     "metadata": {},
     "output_type": "execute_result"
    }
   ],
   "source": [
    "from sympy.physics.quantum import TensorProduct as ox\n",
    "\n",
    "Z = ox(B, B) * ox(A, A) * ox(M, M) * ox(B, B)\n",
    "\n",
    "prob(ox(X, X), Z, ox(X, X))"
   ]
  },
  {
   "cell_type": "code",
   "execution_count": 86,
   "metadata": {},
   "outputs": [
    {
     "data": {
      "text/latex": [
       "$\\displaystyle \\frac{1}{4} - \\frac{\\cos{\\left(2 \\delta_{1} - 2 \\delta_{2} \\right)}}{4}$"
      ],
      "text/plain": [
       "1/4 - cos(2*\\delta_1 - 2*\\delta_2)/4"
      ]
     },
     "execution_count": 86,
     "metadata": {},
     "output_type": "execute_result"
    }
   ],
   "source": [
    "prob(ox(X, X), Z, (1/sqrt(2)) * (ox(X, Y) + ox(Y, X)))"
   ]
  },
  {
   "cell_type": "code",
   "execution_count": 103,
   "metadata": {},
   "outputs": [
    {
     "data": {
      "text/latex": [
       "$\\displaystyle \\left[\\begin{matrix}- \\frac{i}{2} & \\frac{i}{2} & \\frac{i}{2} & - \\frac{i}{2}\\\\\\frac{i}{2} & \\frac{i}{2} & - \\frac{i}{2} & - \\frac{i}{2}\\\\\\frac{i}{2} & - \\frac{i}{2} & \\frac{i}{2} & - \\frac{i}{2}\\\\- \\frac{i}{2} & - \\frac{i}{2} & - \\frac{i}{2} & - \\frac{i}{2}\\end{matrix}\\right]$"
      ],
      "text/plain": [
       "Matrix([\n",
       "[-I/2,  I/2,  I/2, -I/2],\n",
       "[ I/2,  I/2, -I/2, -I/2],\n",
       "[ I/2, -I/2,  I/2, -I/2],\n",
       "[-I/2, -I/2, -I/2, -I/2]])"
      ]
     },
     "execution_count": 103,
     "metadata": {},
     "output_type": "execute_result"
    }
   ],
   "source": [
    "(ox(B, B) * ox(_A, _A) * ox(B, B)).subs({del_2: pi/2})"
   ]
  },
  {
   "cell_type": "code",
   "execution_count": 108,
   "metadata": {},
   "outputs": [
    {
     "data": {
      "text/latex": [
       "$\\displaystyle \\left[\\begin{matrix}\\frac{1}{2} - \\frac{i}{2} & - \\frac{1}{2} + \\frac{i}{2}\\\\- \\frac{1}{2} + \\frac{i}{2} & - \\frac{1}{2} + \\frac{i}{2}\\end{matrix}\\right]$"
      ],
      "text/plain": [
       "Matrix([\n",
       "[ 1/2 - I/2, -1/2 + I/2],\n",
       "[-1/2 + I/2, -1/2 + I/2]])"
      ]
     },
     "execution_count": 108,
     "metadata": {},
     "output_type": "execute_result"
    }
   ],
   "source": [
    "(B * _A * B).subs({del_2: pi/2})"
   ]
  },
  {
   "attachments": {},
   "cell_type": "markdown",
   "metadata": {},
   "source": [
    "## Class"
   ]
  },
  {
   "cell_type": "code",
   "execution_count": 6,
   "metadata": {},
   "outputs": [
    {
     "data": {
      "text/latex": [
       "$\\displaystyle \\frac{1}{8} - \\frac{\\cos{\\left(2 \\delta_{1} - 2 \\delta_{2} \\right)}}{8}$"
      ],
      "text/plain": [
       "1/8 - cos(2*\\delta_1 - 2*\\delta_2)/8"
      ]
     },
     "execution_count": 6,
     "metadata": {},
     "output_type": "execute_result"
    }
   ],
   "source": [
    "def pr(a, b) -> Matrix:\n",
    "    ket = ox(a, b)\n",
    "    return ket * ket.H\n",
    "\n",
    "\n",
    "prob(\n",
    "    ox(X, X),\n",
    "    (\n",
    "        # ox(B, B) * pr(X, X)\n",
    "        ox(B, eye(2)) * pr(X, Y)\n",
    "        + ox(eye(2), B) * pr(Y, X)\n",
    "        # + pr(Y, Y)\n",
    "    ) * Z,\n",
    "    (1/sqrt(2)) * (ox(X, Y) + ox(Y, X)),\n",
    ")\n"
   ]
  },
  {
   "cell_type": "code",
   "execution_count": 7,
   "metadata": {},
   "outputs": [
    {
     "data": {
      "text/latex": [
       "$\\displaystyle \\left[\\begin{matrix}e^{2 i \\delta_{1}} & 0 & 0 & 0\\\\0 & e^{i \\delta_{1}} e^{i \\delta_{2}} & 0 & 0\\\\0 & 0 & e^{i \\delta_{1}} e^{i \\delta_{2}} & 0\\\\0 & 0 & 0 & e^{2 i \\delta_{2}}\\end{matrix}\\right]$"
      ],
      "text/plain": [
       "Matrix([\n",
       "[exp(2*I*\\delta_1),                               0,                               0,                 0],\n",
       "[                0, exp(I*\\delta_1)*exp(I*\\delta_2),                               0,                 0],\n",
       "[                0,                               0, exp(I*\\delta_1)*exp(I*\\delta_2),                 0],\n",
       "[                0,                               0,                               0, exp(2*I*\\delta_2)]])"
      ]
     },
     "execution_count": 7,
     "metadata": {},
     "output_type": "execute_result"
    }
   ],
   "source": [
    "ox(A, A)"
   ]
  },
  {
   "cell_type": "code",
   "execution_count": 8,
   "metadata": {},
   "outputs": [
    {
     "data": {
      "text/latex": [
       "$\\displaystyle \\frac{\\sin{\\left(2 \\delta_{1} \\right)}}{2} - \\frac{i \\cos{\\left(2 \\delta_{1} \\right)}}{2}$"
      ],
      "text/plain": [
       "sin(2*\\delta_1)/2 - I*cos(2*\\delta_1)/2"
      ]
     },
     "execution_count": 8,
     "metadata": {},
     "output_type": "execute_result"
    }
   ],
   "source": [
    "(-(I/8) * (exp(I*del_1) + exp(I*del_1)) ** 2).rewrite(cos).simplify()"
   ]
  },
  {
   "cell_type": "markdown",
   "metadata": {},
   "source": [
    "### Quantum optics lab"
   ]
  },
  {
   "cell_type": "code",
   "execution_count": 35,
   "metadata": {},
   "outputs": [
    {
     "data": {
      "text/latex": [
       "$\\displaystyle \\left[\\begin{matrix}\\frac{\\left(n_{3} e^{2 i \\alpha} - n_{3} + e^{2 i \\alpha} + 1\\right) e^{- i \\alpha}}{2} & \\frac{\\left(n_{1} - i n_{2}\\right) \\left(- \\left(n_{1}^{2} + n_{2}^{2}\\right) \\left(n_{3} + 1\\right) e^{2 i \\alpha} - \\left(n_{3} - 1\\right) \\left(n_{1}^{2} + n_{2}^{2} + 2 n_{3}^{2} + 2 n_{3}\\right)\\right) e^{- i \\alpha}}{2 \\left(n_{3} - 1\\right) \\left(n_{3} + 1\\right)^{2}}\\\\\\frac{\\left(- n_{1} - i n_{2} + \\left(n_{1} + i n_{2}\\right) e^{2 i \\alpha}\\right) e^{- i \\alpha}}{2} & \\frac{\\left(n_{1}^{2} + n_{2}^{2} + 2 n_{3}^{2} + 2 n_{3} + \\left(n_{1}^{2} + n_{2}^{2}\\right) e^{2 i \\alpha}\\right) e^{- i \\alpha}}{2 \\left(n_{3} + 1\\right)}\\end{matrix}\\right]$"
      ],
      "text/plain": [
       "Matrix([\n",
       "[(n_3*exp(2*I*\\alpha) - n_3 + exp(2*I*\\alpha) + 1)*exp(-I*\\alpha)/2, (n_1 - I*n_2)*(-(n_1**2 + n_2**2)*(n_3 + 1)*exp(2*I*\\alpha) - (n_3 - 1)*(n_1**2 + n_2**2 + 2*n_3**2 + 2*n_3))*exp(-I*\\alpha)/(2*(n_3 - 1)*(n_3 + 1)**2)],\n",
       "[   (-n_1 - I*n_2 + (n_1 + I*n_2)*exp(2*I*\\alpha))*exp(-I*\\alpha)/2,                                                   (n_1**2 + n_2**2 + 2*n_3**2 + 2*n_3 + (n_1**2 + n_2**2)*exp(2*I*\\alpha))*exp(-I*\\alpha)/(2*(n_3 + 1))]])"
      ]
     },
     "execution_count": 35,
     "metadata": {},
     "output_type": "execute_result"
    }
   ],
   "source": [
    "from sympy.physics.matrices import msigma\n",
    "from sympy import Matrix, I, sqrt, symbols, exp, cos, sin, Symbol, simplify\n",
    "\n",
    "alpha, n_1, n_2, n_3 = symbols(r\"\\alpha n_1 n_2 n_3\", real=True)\n",
    "\n",
    "x = I * alpha * (n_1 * msigma(1) + n_2 * msigma(2) + n_3 * msigma(3))\n",
    "\n",
    "x.exp().applyfunc(simplify).subs({\n",
    "\tn_1 ** 2 + n_2 ** 2 + n_3 ** 2: 1\n",
    "})\n"
   ]
  },
  {
   "cell_type": "code",
   "execution_count": 38,
   "metadata": {},
   "outputs": [
    {
     "data": {
      "text/latex": [
       "$\\displaystyle \\left[\\begin{matrix}i n_{3} \\sin{\\left(\\alpha \\right)} + \\cos{\\left(\\alpha \\right)} & i \\left(n_{1} - i n_{2}\\right) \\sin{\\left(\\alpha \\right)}\\\\i \\left(n_{1} + i n_{2}\\right) \\sin{\\left(\\alpha \\right)} & - i n_{3} \\sin{\\left(\\alpha \\right)} + \\cos{\\left(\\alpha \\right)}\\end{matrix}\\right]$"
      ],
      "text/plain": [
       "Matrix([\n",
       "[I*n_3*sin(\\alpha) + cos(\\alpha),      I*(n_1 - I*n_2)*sin(\\alpha)],\n",
       "[    I*(n_1 + I*n_2)*sin(\\alpha), -I*n_3*sin(\\alpha) + cos(\\alpha)]])"
      ]
     },
     "execution_count": 38,
     "metadata": {},
     "output_type": "execute_result"
    }
   ],
   "source": [
    "from sympy import eye\n",
    "\n",
    "cos(alpha) * eye(2) + I * sin(alpha) * (n_1 * msigma(1) + n_2 * msigma(2) + n_3 * msigma(3))"
   ]
  },
  {
   "cell_type": "code",
   "execution_count": 1,
   "metadata": {},
   "outputs": [
    {
     "ename": "NameError",
     "evalue": "name 'msigma' is not defined",
     "output_type": "error",
     "traceback": [
      "\u001b[0;31m---------------------------------------------------------------------------\u001b[0m",
      "\u001b[0;31mNameError\u001b[0m                                 Traceback (most recent call last)",
      "Cell \u001b[0;32mIn[1], line 31\u001b[0m\n\u001b[1;32m     27\u001b[0m     \u001b[39mreturn\u001b[39;00m R(t) \u001b[39m*\u001b[39m W4 \u001b[39m*\u001b[39m R(\u001b[39m-\u001b[39mt)\n\u001b[1;32m     29\u001b[0m psi \u001b[39m=\u001b[39m W4T(alpha) \u001b[39m*\u001b[39m H\n\u001b[0;32m---> 31\u001b[0m (psi \u001b[39m*\u001b[39m psi\u001b[39m.\u001b[39mH \u001b[39m*\u001b[39m msigma(\u001b[39m3\u001b[39m))\u001b[39m.\u001b[39mtrace()\u001b[39m.\u001b[39msimplify()\n",
      "\u001b[0;31mNameError\u001b[0m: name 'msigma' is not defined"
     ]
    }
   ],
   "source": [
    "from sympy import Matrix, I, sqrt, symbols, exp, cos, sin, Symbol\n",
    "\n",
    "alpha = symbols(r\"\\alpha\", real=True)\n",
    "\n",
    "H = Matrix([1, 0])\n",
    "V = Matrix([0, 1])\n",
    "\n",
    "W2 = Matrix([\n",
    "    [1, 0],\n",
    "    [0, -1]\n",
    "])\n",
    "W4 = Matrix([\n",
    "    [1, 0],\n",
    "    [0, I]\n",
    "])\n",
    "\n",
    "def R(t: float) -> Matrix:\n",
    "    return Matrix([\n",
    "        [cos(t), -sin(t)],\n",
    "        [sin(t), cos(t)]\n",
    "    ])\n",
    "\n",
    "def W2T(t: float)-> Matrix:\n",
    "    return R(t) * W2 * R(-t)\n",
    "\n",
    "def W4T(t: float)-> Matrix:\n",
    "    return R(t) * W4 * R(-t)\n",
    "\n",
    "psi = W4T(alpha) * H\n",
    "\n",
    "(psi * psi.H * msigma(3)).trace().simplify()"
   ]
  },
  {
   "cell_type": "code",
   "execution_count": 81,
   "metadata": {},
   "outputs": [],
   "source": [
    "s_1 = psi * psi.H * msigma(1)\n",
    "s_2 = psi * psi.H * msigma(2)\n",
    "s_3 = psi * psi.H * msigma(3)"
   ]
  },
  {
   "cell_type": "code",
   "execution_count": 80,
   "metadata": {},
   "outputs": [
    {
     "data": {
      "image/png": "[encoded data removed]",
      "text/plain": [
       "<Figure size 700x350 with 1 Axes>"
      ]
     },
     "metadata": {},
     "output_type": "display_data"
    }
   ],
   "source": [
    "import matplotlib.pyplot as plt\n",
    "import numpy as np\n",
    "plt.rcParams[\"figure.figsize\"] = [7.00, 3.50]\n",
    "plt.rcParams[\"figure.autolayout\"] = True\n",
    "fig = plt.figure()\n",
    "ax = fig.add_subplot(projection='3d')\n",
    "r = 0.05\n",
    "u, v = np.mgrid[0:2 * np.pi:30j, 0:np.pi:20j]\n",
    "x = np.cos(u) * np.sin(v)\n",
    "y = np.sin(u) * np.sin(v)\n",
    "z = np.cos(v)\n",
    "ax.plot_surface(x, y, z, cmap=plt.cm.YlGnBu_r)\n",
    "\n",
    "points = []\n",
    "for i in np.linspace(0, )\n",
    "\n",
    "plt.show()"
   ]
  }
 ],
 "metadata": {
  "kernelspec": {
   "display_name": "venv",
   "language": "python",
   "name": "python3"
  },
  "language_info": {
   "codemirror_mode": {
    "name": "ipython",
    "version": 3
   },
   "file_extension": ".py",
   "mimetype": "text/x-python",
   "name": "python",
   "nbconvert_exporter": "python",
   "pygments_lexer": "ipython3",
   "version": "3.11.4"
  },
  "orig_nbformat": 4
 },
 "nbformat": 4,
 "nbformat_minor": 2
}
