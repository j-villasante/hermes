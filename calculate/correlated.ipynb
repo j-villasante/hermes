{
 "cells": [
  {
   "cell_type": "code",
   "execution_count": 2,
   "metadata": {},
   "outputs": [],
   "source": [
    "from sympy import Matrix, I, sqrt, symbols, exp, cos, sin\n",
    "\n",
    "del_1, del_2, delta = symbols(r\"\\delta_1, \\delta_2 \\delta\", real=True)\n",
    "\n",
    "H = X = Matrix([1, 0])\n",
    "V = Y = Matrix([0, 1])\n",
    "\n",
    "B = (1 / sqrt(2)) * Matrix([\n",
    "    [1, I],\n",
    "    [I, 1]\n",
    "])\n",
    "M = Matrix([\n",
    "    [0, 1],\n",
    "    [1, 0],\n",
    "])\n",
    "A = Matrix([\n",
    "    [exp(I * del_1), 0],\n",
    "    [0, exp(I * del_2)]\n",
    "])\n",
    "W2 = Matrix([\n",
    "    [1, 0],\n",
    "    [0, -1]\n",
    "])\n",
    "W4 = Matrix([\n",
    "    [1, 0],\n",
    "    [0, I]\n",
    "])\n",
    "H = (1 / sqrt(2)) * Matrix([\n",
    "    [1, 1],\n",
    "    [1, -1],\n",
    "])\n",
    "def R(t: float) -> Matrix:\n",
    "    return Matrix([\n",
    "        [cos(t), -sin(t)],\n",
    "        [sin(t), cos(t)]\n",
    "    ])\n",
    "\n",
    "def W2T(t: float)-> Matrix:\n",
    "    return R(t) * W2 * R(-t)\n",
    "\n",
    "def prob(i: Matrix, o: Matrix, p: Matrix):\n",
    "    return ((p * p.H * o * i).norm()**2).rewrite(cos).simplify()"
   ]
  },
  {
   "cell_type": "code",
   "execution_count": 4,
   "metadata": {},
   "outputs": [
    {
     "data": {
      "text/latex": [
       "$\\displaystyle \\left[\\begin{matrix}\\frac{\\sqrt{2}}{2} & \\frac{\\sqrt{2} i}{2}\\\\\\frac{\\sqrt{2} i}{2} & \\frac{\\sqrt{2}}{2}\\end{matrix}\\right]$"
      ],
      "text/plain": [
       "Matrix([\n",
       "[  sqrt(2)/2, sqrt(2)*I/2],\n",
       "[sqrt(2)*I/2,   sqrt(2)/2]])"
      ]
     },
     "execution_count": 4,
     "metadata": {},
     "output_type": "execute_result"
    }
   ],
   "source": [
    "B"
   ]
  },
  {
   "cell_type": "code",
   "execution_count": 5,
   "metadata": {},
   "outputs": [
    {
     "data": {
      "text/latex": [
       "$\\displaystyle \\left[\\begin{matrix}\\frac{\\sqrt{2}}{2} & \\frac{\\sqrt{2}}{2}\\\\\\frac{\\sqrt{2}}{2} & - \\frac{\\sqrt{2}}{2}\\end{matrix}\\right]$"
      ],
      "text/plain": [
       "Matrix([\n",
       "[sqrt(2)/2,  sqrt(2)/2],\n",
       "[sqrt(2)/2, -sqrt(2)/2]])"
      ]
     },
     "execution_count": 5,
     "metadata": {},
     "output_type": "execute_result"
    }
   ],
   "source": [
    "H"
   ]
  },
  {
   "attachments": {},
   "cell_type": "markdown",
   "metadata": {},
   "source": [
    "## One qubit interferometer"
   ]
  },
  {
   "cell_type": "code",
   "execution_count": 3,
   "metadata": {},
   "outputs": [
    {
     "data": {
      "text/latex": [
       "$\\displaystyle \\frac{1}{2} - \\frac{\\cos{\\left(\\delta_{1} - \\delta_{2} \\right)}}{2}$"
      ],
      "text/plain": [
       "1/2 - cos(\\delta_1 - \\delta_2)/2"
      ]
     },
     "execution_count": 3,
     "metadata": {},
     "output_type": "execute_result"
    }
   ],
   "source": [
    "prob(Y, B * A * M * B, X)"
   ]
  },
  {
   "cell_type": "code",
   "execution_count": 23,
   "metadata": {},
   "outputs": [
    {
     "data": {
      "text/latex": [
       "$\\displaystyle \\frac{\\cos{\\left(\\delta_{1} - \\delta_{2} \\right)}}{2} + \\frac{1}{2}$"
      ],
      "text/plain": [
       "cos(\\delta_1 - \\delta_2)/2 + 1/2"
      ]
     },
     "execution_count": 23,
     "metadata": {},
     "output_type": "execute_result"
    }
   ],
   "source": [
    "prob(Y, B * A * B, X)"
   ]
  },
  {
   "cell_type": "code",
   "execution_count": 25,
   "metadata": {},
   "outputs": [
    {
     "data": {
      "text/latex": [
       "$\\displaystyle \\left[\\begin{matrix}0 & i\\\\i & 0\\end{matrix}\\right]$"
      ],
      "text/plain": [
       "Matrix([\n",
       "[0, I],\n",
       "[I, 0]])"
      ]
     },
     "execution_count": 25,
     "metadata": {},
     "output_type": "execute_result"
    }
   ],
   "source": [
    "from sympy import pi\n",
    "\n",
    "_A = Matrix([\n",
    "    [0, 1],\n",
    "    [1, 0]\n",
    "])\n",
    "\n",
    "# prob(Y, H * _A * H, X) .subs(del_2, pi / 4).evalf()\n",
    "\n",
    "(B * _A * M * B)"
   ]
  },
  {
   "attachments": {},
   "cell_type": "markdown",
   "metadata": {},
   "source": [
    "## Eraser"
   ]
  },
  {
   "cell_type": "code",
   "execution_count": 3,
   "metadata": {},
   "outputs": [
    {
     "data": {
      "text/latex": [
       "$\\displaystyle \\left[\\begin{matrix}0\\\\- \\frac{i e^{i \\delta_{1}}}{2} - \\frac{i e^{i \\delta_{2}}}{2}\\\\0\\\\\\frac{e^{i \\delta_{1}}}{2} - \\frac{e^{i \\delta_{2}}}{2}\\end{matrix}\\right]$"
      ],
      "text/plain": [
       "Matrix([\n",
       "[                                         0],\n",
       "[-I*exp(I*\\delta_1)/2 - I*exp(I*\\delta_2)/2],\n",
       "[                                         0],\n",
       "[     exp(I*\\delta_1)/2 - exp(I*\\delta_2)/2]])"
      ]
     },
     "execution_count": 3,
     "metadata": {},
     "output_type": "execute_result"
    }
   ],
   "source": [
    "from sympy import BlockMatrix, eye, zeros\n",
    "from sympy.physics.quantum import TensorProduct as ox\n",
    "\n",
    "theta = 0\n",
    "_W = Matrix(BlockMatrix([\n",
    "    [W2T(theta), zeros(2)],\n",
    "    [zeros(2), Matrix([[1, 0], [0, -1]])]\n",
    "]))\n",
    "\n",
    "Z = ox(B, eye(2)) * ox(A, eye(2)) * _W * ox(M, eye(2)) * ox(B, eye(2))\n",
    "\n",
    "Z * ox(X, V)"
   ]
  },
  {
   "attachments": {},
   "cell_type": "markdown",
   "metadata": {},
   "source": [
    "## Two photons in direction of propagation modes"
   ]
  },
  {
   "cell_type": "code",
   "execution_count": 112,
   "metadata": {},
   "outputs": [
    {
     "data": {
      "text/latex": [
       "$\\displaystyle \\frac{\\cos{\\left(\\delta_{1} - \\delta_{2} \\right)}}{2} + \\frac{\\cos{\\left(2 \\delta_{1} - 2 \\delta_{2} \\right)}}{8} + \\frac{3}{8}$"
      ],
      "text/plain": [
       "cos(\\delta_1 - \\delta_2)/2 + cos(2*\\delta_1 - 2*\\delta_2)/8 + 3/8"
      ]
     },
     "execution_count": 112,
     "metadata": {},
     "output_type": "execute_result"
    }
   ],
   "source": [
    "from sympy.physics.quantum import TensorProduct as ox\n",
    "\n",
    "Z = ox(B, B) * ox(A, A) * ox(M, M) * ox(B, B)\n",
    "\n",
    "prob(ox(X, X), Z, ox(X, X))"
   ]
  },
  {
   "cell_type": "code",
   "execution_count": 86,
   "metadata": {},
   "outputs": [
    {
     "data": {
      "text/latex": [
       "$\\displaystyle \\frac{1}{4} - \\frac{\\cos{\\left(2 \\delta_{1} - 2 \\delta_{2} \\right)}}{4}$"
      ],
      "text/plain": [
       "1/4 - cos(2*\\delta_1 - 2*\\delta_2)/4"
      ]
     },
     "execution_count": 86,
     "metadata": {},
     "output_type": "execute_result"
    }
   ],
   "source": [
    "prob(ox(X, X), Z, (1/sqrt(2)) * (ox(X, Y) + ox(Y, X)))"
   ]
  },
  {
   "cell_type": "code",
   "execution_count": 103,
   "metadata": {},
   "outputs": [
    {
     "data": {
      "text/latex": [
       "$\\displaystyle \\left[\\begin{matrix}- \\frac{i}{2} & \\frac{i}{2} & \\frac{i}{2} & - \\frac{i}{2}\\\\\\frac{i}{2} & \\frac{i}{2} & - \\frac{i}{2} & - \\frac{i}{2}\\\\\\frac{i}{2} & - \\frac{i}{2} & \\frac{i}{2} & - \\frac{i}{2}\\\\- \\frac{i}{2} & - \\frac{i}{2} & - \\frac{i}{2} & - \\frac{i}{2}\\end{matrix}\\right]$"
      ],
      "text/plain": [
       "Matrix([\n",
       "[-I/2,  I/2,  I/2, -I/2],\n",
       "[ I/2,  I/2, -I/2, -I/2],\n",
       "[ I/2, -I/2,  I/2, -I/2],\n",
       "[-I/2, -I/2, -I/2, -I/2]])"
      ]
     },
     "execution_count": 103,
     "metadata": {},
     "output_type": "execute_result"
    }
   ],
   "source": [
    "(ox(B, B) * ox(_A, _A) * ox(B, B)).subs({del_2: pi/2})"
   ]
  },
  {
   "cell_type": "code",
   "execution_count": 108,
   "metadata": {},
   "outputs": [
    {
     "data": {
      "text/latex": [
       "$\\displaystyle \\left[\\begin{matrix}\\frac{1}{2} - \\frac{i}{2} & - \\frac{1}{2} + \\frac{i}{2}\\\\- \\frac{1}{2} + \\frac{i}{2} & - \\frac{1}{2} + \\frac{i}{2}\\end{matrix}\\right]$"
      ],
      "text/plain": [
       "Matrix([\n",
       "[ 1/2 - I/2, -1/2 + I/2],\n",
       "[-1/2 + I/2, -1/2 + I/2]])"
      ]
     },
     "execution_count": 108,
     "metadata": {},
     "output_type": "execute_result"
    }
   ],
   "source": [
    "(B * _A * B).subs({del_2: pi/2})"
   ]
  },
  {
   "attachments": {},
   "cell_type": "markdown",
   "metadata": {},
   "source": [
    "## Class"
   ]
  },
  {
   "cell_type": "code",
   "execution_count": 6,
   "metadata": {},
   "outputs": [
    {
     "data": {
      "text/latex": [
       "$\\displaystyle \\frac{1}{8} - \\frac{\\cos{\\left(2 \\delta_{1} - 2 \\delta_{2} \\right)}}{8}$"
      ],
      "text/plain": [
       "1/8 - cos(2*\\delta_1 - 2*\\delta_2)/8"
      ]
     },
     "execution_count": 6,
     "metadata": {},
     "output_type": "execute_result"
    }
   ],
   "source": [
    "def pr(a, b) -> Matrix:\n",
    "    ket = ox(a, b)\n",
    "    return ket * ket.H\n",
    "\n",
    "\n",
    "prob(\n",
    "    ox(X, X),\n",
    "    (\n",
    "        # ox(B, B) * pr(X, X)\n",
    "        ox(B, eye(2)) * pr(X, Y)\n",
    "        + ox(eye(2), B) * pr(Y, X)\n",
    "        # + pr(Y, Y)\n",
    "    ) * Z,\n",
    "    (1/sqrt(2)) * (ox(X, Y) + ox(Y, X)),\n",
    ")\n"
   ]
  },
  {
   "cell_type": "code",
   "execution_count": 7,
   "metadata": {},
   "outputs": [
    {
     "data": {
      "text/latex": [
       "$\\displaystyle \\left[\\begin{matrix}e^{2 i \\delta_{1}} & 0 & 0 & 0\\\\0 & e^{i \\delta_{1}} e^{i \\delta_{2}} & 0 & 0\\\\0 & 0 & e^{i \\delta_{1}} e^{i \\delta_{2}} & 0\\\\0 & 0 & 0 & e^{2 i \\delta_{2}}\\end{matrix}\\right]$"
      ],
      "text/plain": [
       "Matrix([\n",
       "[exp(2*I*\\delta_1),                               0,                               0,                 0],\n",
       "[                0, exp(I*\\delta_1)*exp(I*\\delta_2),                               0,                 0],\n",
       "[                0,                               0, exp(I*\\delta_1)*exp(I*\\delta_2),                 0],\n",
       "[                0,                               0,                               0, exp(2*I*\\delta_2)]])"
      ]
     },
     "execution_count": 7,
     "metadata": {},
     "output_type": "execute_result"
    }
   ],
   "source": [
    "ox(A, A)"
   ]
  },
  {
   "cell_type": "code",
   "execution_count": 8,
   "metadata": {},
   "outputs": [
    {
     "data": {
      "text/latex": [
       "$\\displaystyle \\frac{\\sin{\\left(2 \\delta_{1} \\right)}}{2} - \\frac{i \\cos{\\left(2 \\delta_{1} \\right)}}{2}$"
      ],
      "text/plain": [
       "sin(2*\\delta_1)/2 - I*cos(2*\\delta_1)/2"
      ]
     },
     "execution_count": 8,
     "metadata": {},
     "output_type": "execute_result"
    }
   ],
   "source": [
    "(-(I/8) * (exp(I*del_1) + exp(I*del_1)) ** 2).rewrite(cos).simplify()"
   ]
  }
 ],
 "metadata": {
  "kernelspec": {
   "display_name": "venv",
   "language": "python",
   "name": "python3"
  },
  "language_info": {
   "codemirror_mode": {
    "name": "ipython",
    "version": 3
   },
   "file_extension": ".py",
   "mimetype": "text/x-python",
   "name": "python",
   "nbconvert_exporter": "python",
   "pygments_lexer": "ipython3",
   "version": "3.11.3"
  },
  "orig_nbformat": 4
 },
 "nbformat": 4,
 "nbformat_minor": 2
}
