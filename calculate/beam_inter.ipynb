{
 "cells": [
  {
   "cell_type": "code",
   "execution_count": 38,
   "metadata": {},
   "outputs": [],
   "source": [
    "from sympy import Matrix, I, sqrt, symbols, exp, cos, sin, Symbol, pi\n",
    "\n",
    "del_1, del_2, delta = symbols(r\"\\delta_1, \\delta_2 \\delta\", real=True)\n",
    "\n",
    "H = X = Matrix([1, 0])\n",
    "V = Y = Matrix([0, 1])\n",
    "\n",
    "W2 = Matrix([\n",
    "    [1, 0],\n",
    "    [0, -1]\n",
    "])\n",
    "W4 = Matrix([\n",
    "    [1, 0],\n",
    "    [0, I]\n",
    "])\n",
    "def R(t: float) -> Matrix:\n",
    "    return Matrix([\n",
    "        [cos(t), -sin(t)],\n",
    "        [sin(t), cos(t)]\n",
    "    ])\n",
    "\n",
    "def W2T(t: float)-> Matrix:\n",
    "    return R(t) * W2 * R(-t)\n",
    "\n",
    "def W4T(t: float)-> Matrix:\n",
    "    return R(t) * W4 * R(-t)\n",
    "\n",
    "def prob(i: Matrix, o: Matrix, p: Matrix):\n",
    "    return ((p * p.H * o * i).norm()**2).rewrite(cos).simplify()"
   ]
  },
  {
   "cell_type": "code",
   "execution_count": 27,
   "metadata": {},
   "outputs": [],
   "source": [
    "theta = Symbol(r\"\\theta\")\n",
    "alpha = Symbol(r\"\\alpha\")"
   ]
  },
  {
   "cell_type": "code",
   "execution_count": 44,
   "metadata": {},
   "outputs": [
    {
     "data": {
      "text/latex": [
       "$\\displaystyle \\left[\\begin{matrix}\\cos{\\left(2 \\alpha - 2 \\theta \\right)}\\\\\\sin{\\left(2 \\alpha - 2 \\theta \\right)}\\end{matrix}\\right]$"
      ],
      "text/plain": [
       "Matrix([\n",
       "[cos(2*\\alpha - 2*\\theta)],\n",
       "[sin(2*\\alpha - 2*\\theta)]])"
      ]
     },
     "execution_count": 44,
     "metadata": {},
     "output_type": "execute_result"
    }
   ],
   "source": [
    "r = W2T(alpha) * W2T(theta) * H\n",
    "r.simplify()\n",
    "r"
   ]
  },
  {
   "cell_type": "code",
   "execution_count": 37,
   "metadata": {},
   "outputs": [
    {
     "data": {
      "text/latex": [
       "$\\displaystyle 1.0 \\left|{\\cos{\\left(2 \\alpha \\right)}}\\right|^{2}$"
      ],
      "text/plain": [
       "1.0*Abs(cos(2*\\alpha))**2"
      ]
     },
     "execution_count": 37,
     "metadata": {},
     "output_type": "execute_result"
    }
   ],
   "source": [
    "angle = 22.5\n",
    "prob(H, W2T(-angle) * W2T(alpha) * W2T(angle), H)"
   ]
  }
 ],
 "metadata": {
  "kernelspec": {
   "display_name": ".venv",
   "language": "python",
   "name": "python3"
  },
  "language_info": {
   "codemirror_mode": {
    "name": "ipython",
    "version": 3
   },
   "file_extension": ".py",
   "mimetype": "text/x-python",
   "name": "python",
   "nbconvert_exporter": "python",
   "pygments_lexer": "ipython3",
   "version": "3.11.4"
  }
 },
 "nbformat": 4,
 "nbformat_minor": 2
}
