{
 "cells": [
  {
   "cell_type": "code",
   "execution_count": 2,
   "metadata": {},
   "outputs": [],
   "source": [
    "from sympy import Matrix, I, sqrt, symbols, exp, cos, sin, Symbol, pi\n",
    "\n",
    "del_1, del_2, delta = symbols(r\"\\delta_1, \\delta_2 \\delta\", real=True)\n",
    "\n",
    "H = X = Matrix([1, 0])\n",
    "V = Y = Matrix([0, 1])\n",
    "\n",
    "W2 = Matrix([\n",
    "    [1, 0],\n",
    "    [0, -1]\n",
    "])\n",
    "W4 = Matrix([\n",
    "    [1, 0],\n",
    "    [0, I]\n",
    "])\n",
    "def R(t: float) -> Matrix:\n",
    "    return Matrix([\n",
    "        [cos(t), -sin(t)],\n",
    "        [sin(t), cos(t)]\n",
    "    ])\n",
    "\n",
    "def W2T(t: float)-> Matrix:\n",
    "    return R(t) * W2 * R(-t)\n",
    "\n",
    "def W4T(t: float)-> Matrix:\n",
    "    return R(t) * W4 * R(-t)\n",
    "\n",
    "def prob(i: Matrix, o: Matrix, p: Matrix):\n",
    "    return ((p * p.H * o * i).norm()**2).rewrite(cos).simplify()"
   ]
  },
  {
   "cell_type": "code",
   "execution_count": 3,
   "metadata": {},
   "outputs": [],
   "source": [
    "theta = Symbol(r\"\\theta\")\n",
    "alpha = Symbol(r\"\\alpha\")"
   ]
  },
  {
   "cell_type": "code",
   "execution_count": 7,
   "metadata": {},
   "outputs": [
    {
     "data": {
      "text/latex": [
       "$\\displaystyle \\left[\\begin{matrix}i \\sin^{2}{\\left(\\theta \\right)} + \\cos^{2}{\\left(\\theta \\right)} & \\sin{\\left(\\theta \\right)} \\cos{\\left(\\theta \\right)} - i \\sin{\\left(\\theta \\right)} \\cos{\\left(\\theta \\right)}\\\\\\sin{\\left(\\theta \\right)} \\cos{\\left(\\theta \\right)} - i \\sin{\\left(\\theta \\right)} \\cos{\\left(\\theta \\right)} & \\sin^{2}{\\left(\\theta \\right)} + i \\cos^{2}{\\left(\\theta \\right)}\\end{matrix}\\right]$"
      ],
      "text/plain": [
       "Matrix([\n",
       "[                  I*sin(\\theta)**2 + cos(\\theta)**2, sin(\\theta)*cos(\\theta) - I*sin(\\theta)*cos(\\theta)],\n",
       "[sin(\\theta)*cos(\\theta) - I*sin(\\theta)*cos(\\theta),                   sin(\\theta)**2 + I*cos(\\theta)**2]])"
      ]
     },
     "execution_count": 7,
     "metadata": {},
     "output_type": "execute_result"
    }
   ],
   "source": [
    "W4T(theta)"
   ]
  },
  {
   "cell_type": "code",
   "execution_count": 10,
   "metadata": {},
   "outputs": [
    {
     "data": {
      "text/latex": [
       "$\\displaystyle \\left[\\begin{matrix}0.425451762267059 \\cdot \\left(1 - i\\right) \\sin{\\left(2 \\theta \\right)} + \\left(0.762660994408865 + 0.237339005591135 i\\right) \\cos{\\left(2 \\theta \\right)}\\\\\\frac{\\left(0.47467801118227 + 1.52532198881773 i\\right) \\sin{\\left(2 \\theta \\right)}}{2} + \\left(0.425451762267059 - 0.425451762267059 i\\right) \\cos{\\left(2 \\theta \\right)}\\end{matrix}\\right]$"
      ],
      "text/plain": [
       "Matrix([\n",
       "[                0.425451762267059*(1 - I)*sin(2*\\theta) + (0.762660994408865 + 0.237339005591135*I)*cos(2*\\theta)],\n",
       "[(0.47467801118227 + 1.52532198881773*I)*sin(2*\\theta)/2 + (0.425451762267059 - 0.425451762267059*I)*cos(2*\\theta)]])"
      ]
     },
     "execution_count": 10,
     "metadata": {},
     "output_type": "execute_result"
    }
   ],
   "source": [
    "r = W4T(22.5) * W2T(theta) * H\n",
    "r.simplify()\n",
    "r"
   ]
  },
  {
   "cell_type": "code",
   "execution_count": 8,
   "metadata": {},
   "outputs": [
    {
     "data": {
      "text/latex": [
       "$\\displaystyle \\left|{8 \\sin^{4}{\\left(\\theta \\right)} - 8 \\sin^{2}{\\left(\\theta \\right)} + 1}\\right|^{2}$"
      ],
      "text/plain": [
       "Abs(8*sin(\\theta)**4 - 8*sin(\\theta)**2 + 1)**2"
      ]
     },
     "execution_count": 8,
     "metadata": {},
     "output_type": "execute_result"
    }
   ],
   "source": [
    "prob(H, W2T(-theta) * W2T(theta), H)"
   ]
  },
  {
   "cell_type": "code",
   "execution_count": 11,
   "metadata": {},
   "outputs": [
    {
     "data": {
      "text/latex": [
       "$\\displaystyle 1$"
      ],
      "text/plain": [
       "1"
      ]
     },
     "execution_count": 11,
     "metadata": {},
     "output_type": "execute_result"
    }
   ],
   "source": [
    "angle = 0\n",
    "prob(H, W2T(-theta) * W2T(angle) * W2T(theta), H)"
   ]
  },
  {
   "cell_type": "code",
   "execution_count": 15,
   "metadata": {},
   "outputs": [
    {
     "data": {
      "text/latex": [
       "$\\displaystyle \\left|{\\left(1 - i\\right) \\sin^{2}{\\left(\\alpha \\right)} - 4 \\cdot \\left(1 + i\\right) \\sin^{4}{\\left(\\theta \\right)} + 4 \\cdot \\left(1 + i\\right) \\sin^{2}{\\left(\\theta \\right)} - 1}\\right|^{2}$"
      ],
      "text/plain": [
       "Abs((1 - I)*sin(\\alpha)**2 - 4*(1 + I)*sin(\\theta)**4 + 4*(1 + I)*sin(\\theta)**2 - 1)**2"
      ]
     },
     "execution_count": 15,
     "metadata": {},
     "output_type": "execute_result"
    }
   ],
   "source": [
    "angle = 0 * pi / 8\n",
    "prob(H, W2T(-theta) * W4T(alpha) * W2T(theta), H)"
   ]
  }
 ],
 "metadata": {
  "kernelspec": {
   "display_name": ".venv",
   "language": "python",
   "name": "python3"
  },
  "language_info": {
   "codemirror_mode": {
    "name": "ipython",
    "version": 3
   },
   "file_extension": ".py",
   "mimetype": "text/x-python",
   "name": "python",
   "nbconvert_exporter": "python",
   "pygments_lexer": "ipython3",
   "version": "3.11.4"
  }
 },
 "nbformat": 4,
 "nbformat_minor": 2
}
