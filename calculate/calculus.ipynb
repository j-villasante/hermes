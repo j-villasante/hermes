{
 "cells": [
  {
   "cell_type": "code",
   "execution_count": 7,
   "metadata": {},
   "outputs": [],
   "source": [
    "from sympy import integrate, symbols, Integral, exp, oo, Symbol, pi, sin, cos"
   ]
  },
  {
   "cell_type": "code",
   "execution_count": 2,
   "metadata": {},
   "outputs": [
    {
     "data": {
      "text/latex": [
       "$\\displaystyle \\frac{\\sqrt{2} \\sqrt{\\pi} \\sqrt{\\hslash}}{2 \\sqrt{a} \\sqrt{m}}$"
      ],
      "text/plain": [
       "sqrt(2)*sqrt(pi)*sqrt(\\hslash)/(2*sqrt(a)*sqrt(m))"
      ]
     },
     "execution_count": 2,
     "metadata": {},
     "output_type": "execute_result"
    }
   ],
   "source": [
    "a, m, x, h = symbols(r\"a m x \\hslash\", real=True, positive=True)\n",
    "\n",
    "f = Integral(exp(-2*a*m*x**2/h), (x, -oo, oo))\n",
    "f.doit()"
   ]
  },
  {
   "cell_type": "code",
   "execution_count": 31,
   "metadata": {},
   "outputs": [
    {
     "data": {
      "text/latex": [
       "$\\displaystyle \\frac{\\sqrt{2} \\sqrt{\\pi} \\hslash^{\\frac{3}{2}}}{8 a^{\\frac{3}{2}} m^{\\frac{3}{2}}}$"
      ],
      "text/plain": [
       "sqrt(2)*sqrt(pi)*\\hslash**(3/2)/(8*a**(3/2)*m**(3/2))"
      ]
     },
     "execution_count": 31,
     "metadata": {},
     "output_type": "execute_result"
    }
   ],
   "source": [
    "f = Integral(x**2 * exp(-2*a*m*x**2/h), (x, -oo, oo))\n",
    "\n",
    "f.doit()"
   ]
  },
  {
   "cell_type": "code",
   "execution_count": 34,
   "metadata": {},
   "outputs": [
    {
     "data": {
      "text/latex": [
       "$\\displaystyle - \\frac{\\sqrt{2} \\sqrt{\\pi} \\sqrt{a} \\sqrt{m}}{2 \\sqrt{\\hslash}}$"
      ],
      "text/plain": [
       "-sqrt(2)*sqrt(pi)*sqrt(a)*sqrt(m)/(2*sqrt(\\hslash))"
      ]
     },
     "execution_count": 34,
     "metadata": {},
     "output_type": "execute_result"
    }
   ],
   "source": [
    "f = Integral(exp(-2*a*m*x**2/h) * ( (2*a*m*x/h)**2 - (2*m*a/h) ), (x, -oo, oo))\n",
    "\n",
    "f.doit()"
   ]
  },
  {
   "cell_type": "code",
   "execution_count": 18,
   "metadata": {},
   "outputs": [
    {
     "data": {
      "text/latex": [
       "$\\displaystyle - \\frac{16 a \\cos{\\left(3 \\omega t \\right)}}{9 \\pi^{2}} + \\frac{a}{2}$"
      ],
      "text/plain": [
       "-16*a*cos(3*\\omega*t)/(9*pi**2) + a/2"
      ]
     },
     "execution_count": 18,
     "metadata": {},
     "output_type": "execute_result"
    }
   ],
   "source": [
    "a, x, w, t = symbols(r\"a x \\omega t\", real=True, positive=True)\n",
    "\n",
    "s1 = sin(pi * x / a)\n",
    "s2 = sin(2 * pi * x / a)\n",
    "\n",
    "f = Integral((x/a) * ( s1**2 + s2**2 + 2*s1*s2*cos(3*w*t) ), (x, 0, a))\n",
    "\n",
    "f.doit().simplify()"
   ]
  },
  {
   "cell_type": "code",
   "execution_count": 22,
   "metadata": {},
   "outputs": [
    {
     "data": {
      "text/latex": [
       "$\\displaystyle - \\frac{16 a \\cos{\\left(3 \\omega t - \\phi \\right)}}{9 \\pi^{2}} + \\frac{a}{2}$"
      ],
      "text/plain": [
       "-16*a*cos(3*\\omega*t - \\phi)/(9*pi**2) + a/2"
      ]
     },
     "execution_count": 22,
     "metadata": {},
     "output_type": "execute_result"
    }
   ],
   "source": [
    "a, x, w, t, phi = symbols(r\"a x \\omega t \\phi\", real=True, positive=True)\n",
    "\n",
    "s1 = sin(pi * x / a)\n",
    "s2 = sin(2 * pi * x / a)\n",
    "\n",
    "f = Integral((x/a) * ( s1**2 + s2**2 + 2*s1*s2*cos(3*w*t - phi) ), (x, 0, a))\n",
    "\n",
    "f.doit().simplify()"
   ]
  }
 ],
 "metadata": {
  "kernelspec": {
   "display_name": ".venv",
   "language": "python",
   "name": "python3"
  },
  "language_info": {
   "codemirror_mode": {
    "name": "ipython",
    "version": 3
   },
   "file_extension": ".py",
   "mimetype": "text/x-python",
   "name": "python",
   "nbconvert_exporter": "python",
   "pygments_lexer": "ipython3",
   "version": "3.11.3"
  },
  "orig_nbformat": 4
 },
 "nbformat": 4,
 "nbformat_minor": 2
}
