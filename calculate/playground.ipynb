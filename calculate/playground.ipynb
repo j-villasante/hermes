{
 "cells": [
  {
   "cell_type": "code",
   "execution_count": 17,
   "metadata": {},
   "outputs": [
    {
     "data": {
      "text/latex": [
       "$\\displaystyle \\left[\\begin{matrix}1 & 0\\\\0 & 1\\end{matrix}\\right]$"
      ],
      "text/plain": [
       "Matrix([\n",
       "[1, 0],\n",
       "[0, 1]])"
      ]
     },
     "execution_count": 17,
     "metadata": {},
     "output_type": "execute_result"
    }
   ],
   "source": [
    "from sympy.physics.matrices import msigma\n",
    "from sympy import eye\n",
    "\n",
    "msigma(3) * msigma(3)"
   ]
  },
  {
   "cell_type": "code",
   "execution_count": 21,
   "metadata": {},
   "outputs": [
    {
     "data": {
      "text/latex": [
       "$\\displaystyle \\left[\\begin{matrix}1 & - i\\\\1 & i\\end{matrix}\\right]$"
      ],
      "text/plain": [
       "Matrix([\n",
       "[1, -I],\n",
       "[1,  I]])"
      ]
     },
     "execution_count": 21,
     "metadata": {},
     "output_type": "execute_result"
    }
   ],
   "source": [
    "from sympy import Matrix, sqrt, I\n",
    "\n",
    "h = Matrix([[1, 1], [1, -1]])\n",
    "sdg = Matrix([[1, 0], [0, -I]])\n",
    "\n",
    "h * sdg"
   ]
  },
  {
   "cell_type": "code",
   "execution_count": 9,
   "metadata": {},
   "outputs": [
    {
     "data": {
      "text/latex": [
       "$\\displaystyle \\left[\\begin{matrix}1\\\\1\\end{matrix}\\right]$"
      ],
      "text/plain": [
       "Matrix([\n",
       "[1],\n",
       "[1]])"
      ]
     },
     "execution_count": 9,
     "metadata": {},
     "output_type": "execute_result"
    }
   ],
   "source": [
    "from sympy import Matrix\n",
    "\n",
    "A = Matrix([\n",
    "\t[1, 0],\n",
    "\t[1, 0],\n",
    "])\n",
    "\n",
    "B = Matrix([\n",
    "\t[0, 0],\n",
    "\t[2, 0],\n",
    "])\n",
    "\n",
    "A * Matrix([\n",
    "\t[1],\n",
    "\t[1]\n",
    "])"
   ]
  },
  {
   "cell_type": "code",
   "execution_count": 32,
   "metadata": {},
   "outputs": [
    {
     "name": "stdout",
     "output_type": "stream",
     "text": [
      "\n",
      "Total count for 00 and 11 are: {'01': 235, '11': 261, '10': 243, '00': 261}\n"
     ]
    },
    {
     "data": {
      "image/png": "[encoded data removed]",
      "text/plain": [
       "<Figure size 370.906x284.278 with 1 Axes>"
      ]
     },
     "execution_count": 32,
     "metadata": {},
     "output_type": "execute_result"
    }
   ],
   "source": [
    "from qiskit import QuantumCircuit, transpile\n",
    "from qiskit_aer import AerSimulator\n",
    "from qiskit.visualization import plot_histogram\n",
    "\n",
    "# Use Aer's AerSimulator\n",
    "simulator = AerSimulator()\n",
    "\n",
    "# Create a Quantum Circuit acting on the q register\n",
    "circuit = QuantumCircuit(2, 2)\n",
    "\n",
    "# Add a H gate on qubit 0\n",
    "circuit.h(0)\n",
    "circuit.h(1)\n",
    "\n",
    "# Map the quantum measurement to the classical bits\n",
    "circuit.measure(0, 0)\n",
    "circuit.measure(1, 1)\n",
    "\n",
    "# Compile the circuit for the support instruction set (basis_gates)\n",
    "# and topology (coupling_map) of the backend\n",
    "compiled_circuit = transpile(circuit, simulator)\n",
    "\n",
    "# Execute the circuit on the aer simulator\n",
    "job = simulator.run(compiled_circuit, shots=1000)\n",
    "\n",
    "# Grab results from the job\n",
    "result = job.result()\n",
    "\n",
    "# Returns counts\n",
    "counts = result.get_counts(compiled_circuit)\n",
    "print(\"\\nTotal count for 00 and 11 are:\", counts)\n",
    "\n",
    "# Draw the circuit\n",
    "circuit.draw(\"mpl\")"
   ]
  },
  {
   "cell_type": "code",
   "execution_count": 10,
   "metadata": {},
   "outputs": [
    {
     "data": {
      "text/latex": [
       "$\\displaystyle \\left[\\begin{matrix}t_{1}^{2} + \\left(t_{11} - i t_{12}\\right) \\left(t_{11} + i t_{12}\\right) + \\left(t_{15} - i t_{16}\\right) \\left(t_{15} + i t_{16}\\right) + \\left(t_{5} - i t_{6}\\right) \\left(t_{5} + i t_{6}\\right) & t_{2} \\left(t_{5} - i t_{6}\\right) + \\left(t_{11} - i t_{12}\\right) \\left(t_{7} + i t_{8}\\right) + \\left(t_{13} + i t_{14}\\right) \\left(t_{15} - i t_{16}\\right) & t_{3} \\left(t_{11} - i t_{12}\\right) + \\left(t_{15} - i t_{16}\\right) \\left(i t_{10} + t_{9}\\right) & t_{4} \\left(t_{15} - i t_{16}\\right)\\\\t_{2} \\left(t_{5} + i t_{6}\\right) + \\left(t_{11} + i t_{12}\\right) \\left(t_{7} - i t_{8}\\right) + \\left(t_{13} - i t_{14}\\right) \\left(t_{15} + i t_{16}\\right) & t_{2}^{2} + \\left(t_{13} - i t_{14}\\right) \\left(t_{13} + i t_{14}\\right) + \\left(t_{7} - i t_{8}\\right) \\left(t_{7} + i t_{8}\\right) & t_{3} \\left(t_{7} - i t_{8}\\right) + \\left(t_{13} - i t_{14}\\right) \\left(i t_{10} + t_{9}\\right) & t_{4} \\left(t_{13} - i t_{14}\\right)\\\\t_{3} \\left(t_{11} + i t_{12}\\right) + \\left(t_{15} + i t_{16}\\right) \\left(- i t_{10} + t_{9}\\right) & t_{3} \\left(t_{7} + i t_{8}\\right) + \\left(t_{13} + i t_{14}\\right) \\left(- i t_{10} + t_{9}\\right) & t_{3}^{2} + \\left(- i t_{10} + t_{9}\\right) \\left(i t_{10} + t_{9}\\right) & t_{4} \\left(- i t_{10} + t_{9}\\right)\\\\t_{4} \\left(t_{15} + i t_{16}\\right) & t_{4} \\left(t_{13} + i t_{14}\\right) & t_{4} \\left(i t_{10} + t_{9}\\right) & t_{4}^{2}\\end{matrix}\\right]$"
      ],
      "text/plain": [
       "Matrix([\n",
       "[t_1**2 + (t_11 - I*t_12)*(t_11 + I*t_12) + (t_15 - I*t_16)*(t_15 + I*t_16) + (t_5 - I*t_6)*(t_5 + I*t_6), t_2*(t_5 - I*t_6) + (t_11 - I*t_12)*(t_7 + I*t_8) + (t_13 + I*t_14)*(t_15 - I*t_16), t_3*(t_11 - I*t_12) + (t_15 - I*t_16)*(I*t_10 + t_9), t_4*(t_15 - I*t_16)],\n",
       "[                     t_2*(t_5 + I*t_6) + (t_11 + I*t_12)*(t_7 - I*t_8) + (t_13 - I*t_14)*(t_15 + I*t_16),              t_2**2 + (t_13 - I*t_14)*(t_13 + I*t_14) + (t_7 - I*t_8)*(t_7 + I*t_8),   t_3*(t_7 - I*t_8) + (t_13 - I*t_14)*(I*t_10 + t_9), t_4*(t_13 - I*t_14)],\n",
       "[                                                   t_3*(t_11 + I*t_12) + (t_15 + I*t_16)*(-I*t_10 + t_9),                                 t_3*(t_7 + I*t_8) + (t_13 + I*t_14)*(-I*t_10 + t_9),              t_3**2 + (-I*t_10 + t_9)*(I*t_10 + t_9), t_4*(-I*t_10 + t_9)],\n",
       "[                                                                                     t_4*(t_15 + I*t_16),                                                                 t_4*(t_13 + I*t_14),                                   t_4*(I*t_10 + t_9),              t_4**2]])"
      ]
     },
     "execution_count": 10,
     "metadata": {},
     "output_type": "execute_result"
    }
   ],
   "source": [
    "from sympy import Matrix, symbols, I\n",
    "\n",
    "(t1, t2, t3, t4, t5, t6, t7, t8, t9, t10, t11, t12, t13, t14, t15, t16) = symbols(\n",
    "    \" \".join([f\"t_{i}\" for i in range(1, 17)]), real=True\n",
    ")\n",
    "\n",
    "T = Matrix([\n",
    "\t[t1, 0, 0, 0],\n",
    "\t[t5 + I * t6, t2, 0, 0],\n",
    "\t[t11 + I * t12, t7 + I * t8, t3, 0],\n",
    "\t[t15 + I * t16, t13 + I * t14, t9 + I * t10, t4],\n",
    "])\n",
    "\n",
    "tem = T.H * T\n",
    "tem"
   ]
  },
  {
   "cell_type": "code",
   "execution_count": 59,
   "metadata": {},
   "outputs": [
    {
     "data": {
      "text/latex": [
       "$\\displaystyle \\left[\\begin{matrix}1000000 & 2.31162866626278 \\cdot 10^{-17} & 2.0349920858663 \\cdot 10^{-17}\\end{matrix}\\right]$"
      ],
      "text/plain": [
       "Matrix([[1000000, 2.31162866626278e-17, 2.0349920858663e-17]])"
      ]
     },
     "execution_count": 59,
     "metadata": {},
     "output_type": "execute_result"
    }
   ],
   "source": [
    "from sympy import Matrix\n",
    "from math import cos, sin, pi\n",
    "\n",
    "res = []\n",
    "a = 100\n",
    "\n",
    "for N in [10**6]:\n",
    "\ttc = 0\n",
    "\tts = 0\n",
    "\tfor i in range(0, N):\n",
    "\t\tx = 2 * pi * a * i / N\n",
    "\t\ttc += cos(x)\n",
    "\t\tts += sin(x)\n",
    "\tres.append([N, tc / N, ts / N])\n",
    "\n",
    "Matrix(res)"
   ]
  },
  {
   "cell_type": "code",
   "execution_count": 6,
   "metadata": {},
   "outputs": [
    {
     "data": {
      "text/latex": [
       "$\\displaystyle \\left[\\begin{matrix}s_{00} + s_{03} + s_{30} + s_{33} & s_{01} - i s_{02} + s_{31} - i s_{32} & s_{10} + s_{13} - i s_{20} - i s_{23} & s_{11} - i s_{12} - i s_{21} - s_{22}\\\\s_{01} + i s_{02} + s_{31} + i s_{32} & s_{00} - s_{03} + s_{30} - s_{33} & s_{11} + i s_{12} - i s_{21} + s_{22} & s_{10} - s_{13} - i s_{20} + i s_{23}\\\\s_{10} + s_{13} + i s_{20} + i s_{23} & s_{11} - i s_{12} + i s_{21} + s_{22} & s_{00} + s_{03} - s_{30} - s_{33} & s_{01} - i s_{02} - s_{31} + i s_{32}\\\\s_{11} + i s_{12} + i s_{21} - s_{22} & s_{10} - s_{13} + i s_{20} - i s_{23} & s_{01} + i s_{02} - s_{31} - i s_{32} & s_{00} - s_{03} - s_{30} + s_{33}\\end{matrix}\\right]$"
      ],
      "text/plain": [
       "Matrix([\n",
       "[    s_00 + s_03 + s_30 + s_33, s_01 - I*s_02 + s_31 - I*s_32, s_10 + s_13 - I*s_20 - I*s_23, s_11 - I*s_12 - I*s_21 - s_22],\n",
       "[s_01 + I*s_02 + s_31 + I*s_32,     s_00 - s_03 + s_30 - s_33, s_11 + I*s_12 - I*s_21 + s_22, s_10 - s_13 - I*s_20 + I*s_23],\n",
       "[s_10 + s_13 + I*s_20 + I*s_23, s_11 - I*s_12 + I*s_21 + s_22,     s_00 + s_03 - s_30 - s_33, s_01 - I*s_02 - s_31 + I*s_32],\n",
       "[s_11 + I*s_12 + I*s_21 - s_22, s_10 - s_13 + I*s_20 - I*s_23, s_01 + I*s_02 - s_31 - I*s_32,     s_00 - s_03 - s_30 + s_33]])"
      ]
     },
     "execution_count": 6,
     "metadata": {},
     "output_type": "execute_result"
    }
   ],
   "source": [
    "from sympy import Matrix, symbols, I, eye, zeros\n",
    "from sympy.physics.matrices import msigma\n",
    "from sympy.physics.quantum import TensorProduct as ox\n",
    "\n",
    "sig = [eye(2), msigma(1), msigma(2), msigma(3)]\n",
    "ss = symbols(\n",
    "    \" \".join([f\"s_{i}{j}\" for i in range(0, 4) for j in range(0, 4)]), real=True\n",
    ")\n",
    "\n",
    "rho = zeros(4)\n",
    "for i in range(0, 4):\n",
    "    for j in range(0, 4):\n",
    "        rho += ss[i * 4 + j] * ox(sig[i], sig[j])\n",
    "\n",
    "# rho /= 4\n",
    "rho"
   ]
  },
  {
   "cell_type": "code",
   "execution_count": 8,
   "metadata": {},
   "outputs": [
    {
     "name": "stdout",
     "output_type": "stream",
     "text": [
      "(s_00, s_01, s_02, s_03, s_10, s_11, s_12, s_13, s_20, s_21, s_22, s_23, s_30, s_31, s_32, s_33)\n"
     ]
    },
    {
     "data": {
      "text/latex": [
       "$\\displaystyle \\left[\\begin{matrix}3 P_{HH} - P_{HV} - P_{VH} - P_{VV} + 1 & - P_{AA} + P_{AD} - P_{DA} + P_{DD} - P_{HA} + P_{HD} + P_{VA} - P_{VD} - i \\left(- P_{HL} + P_{HR} + P_{VL} - P_{VR}\\right) - i \\left(- P_{LL} + P_{LR} - P_{RL} + P_{RR}\\right) & - P_{AA} - P_{AD} - P_{AH} + P_{AV} + P_{DA} + P_{DD} + P_{DH} - P_{DV} - i \\left(- P_{LH} + P_{LV} + P_{RH} - P_{RV}\\right) - i \\left(- P_{LL} - P_{LR} + P_{RL} + P_{RR}\\right) & P_{AA} - P_{AD} - P_{DA} + P_{DD} - P_{LL} + P_{LR} + P_{RL} - P_{RR} - i \\left(P_{AL} - P_{AR} - P_{DL} + P_{DR}\\right) - i \\left(P_{LA} - P_{LD} - P_{RA} + P_{RD}\\right)\\\\- P_{AA} + P_{AD} - P_{DA} + P_{DD} - P_{HA} + P_{HD} + P_{VA} - P_{VD} + i \\left(- P_{HL} + P_{HR} + P_{VL} - P_{VR}\\right) + i \\left(- P_{LL} + P_{LR} - P_{RL} + P_{RR}\\right) & - P_{HH} + 3 P_{HV} - P_{VH} - P_{VV} + 1 & P_{AA} - P_{AD} - P_{DA} + P_{DD} + P_{LL} - P_{LR} - P_{RL} + P_{RR} + i \\left(P_{AL} - P_{AR} - P_{DL} + P_{DR}\\right) - i \\left(P_{LA} - P_{LD} - P_{RA} + P_{RD}\\right) & - P_{AA} - P_{AD} + P_{AH} - P_{AV} + P_{DA} + P_{DD} - P_{DH} + P_{DV} + i \\left(- P_{LH} + P_{LV} + P_{RH} - P_{RV}\\right) - i \\left(- P_{LL} - P_{LR} + P_{RL} + P_{RR}\\right)\\\\- P_{AA} - P_{AD} - P_{AH} + P_{AV} + P_{DA} + P_{DD} + P_{DH} - P_{DV} + i \\left(- P_{LH} + P_{LV} + P_{RH} - P_{RV}\\right) + i \\left(- P_{LL} - P_{LR} + P_{RL} + P_{RR}\\right) & P_{AA} - P_{AD} - P_{DA} + P_{DD} + P_{LL} - P_{LR} - P_{RL} + P_{RR} - i \\left(P_{AL} - P_{AR} - P_{DL} + P_{DR}\\right) + i \\left(P_{LA} - P_{LD} - P_{RA} + P_{RD}\\right) & - P_{HH} - P_{HV} + 3 P_{VH} - P_{VV} + 1 & - P_{AA} + P_{AD} - P_{DA} + P_{DD} + P_{HA} - P_{HD} - P_{VA} + P_{VD} + i \\left(- P_{HL} + P_{HR} + P_{VL} - P_{VR}\\right) - i \\left(- P_{LL} + P_{LR} - P_{RL} + P_{RR}\\right)\\\\P_{AA} - P_{AD} - P_{DA} + P_{DD} - P_{LL} + P_{LR} + P_{RL} - P_{RR} + i \\left(P_{AL} - P_{AR} - P_{DL} + P_{DR}\\right) + i \\left(P_{LA} - P_{LD} - P_{RA} + P_{RD}\\right) & - P_{AA} - P_{AD} + P_{AH} - P_{AV} + P_{DA} + P_{DD} - P_{DH} + P_{DV} - i \\left(- P_{LH} + P_{LV} + P_{RH} - P_{RV}\\right) + i \\left(- P_{LL} - P_{LR} + P_{RL} + P_{RR}\\right) & - P_{AA} + P_{AD} - P_{DA} + P_{DD} + P_{HA} - P_{HD} - P_{VA} + P_{VD} - i \\left(- P_{HL} + P_{HR} + P_{VL} - P_{VR}\\right) + i \\left(- P_{LL} + P_{LR} - P_{RL} + P_{RR}\\right) & - P_{HH} - P_{HV} - P_{VH} + 3 P_{VV} + 1\\end{matrix}\\right]$"
      ],
      "text/plain": [
       "Matrix([\n",
       "[                                                                                                                 3*P_{HH} - P_{HV} - P_{VH} - P_{VV} + 1, -P_{AA} + P_{AD} - P_{DA} + P_{DD} - P_{HA} + P_{HD} + P_{VA} - P_{VD} - I*(-P_{HL} + P_{HR} + P_{VL} - P_{VR}) - I*(-P_{LL} + P_{LR} - P_{RL} + P_{RR}), -P_{AA} - P_{AD} - P_{AH} + P_{AV} + P_{DA} + P_{DD} + P_{DH} - P_{DV} - I*(-P_{LH} + P_{LV} + P_{RH} - P_{RV}) - I*(-P_{LL} - P_{LR} + P_{RL} + P_{RR}),    P_{AA} - P_{AD} - P_{DA} + P_{DD} - P_{LL} + P_{LR} + P_{RL} - P_{RR} - I*(P_{AL} - P_{AR} - P_{DL} + P_{DR}) - I*(P_{LA} - P_{LD} - P_{RA} + P_{RD})],\n",
       "[-P_{AA} + P_{AD} - P_{DA} + P_{DD} - P_{HA} + P_{HD} + P_{VA} - P_{VD} + I*(-P_{HL} + P_{HR} + P_{VL} - P_{VR}) + I*(-P_{LL} + P_{LR} - P_{RL} + P_{RR}),                                                                                                                 -P_{HH} + 3*P_{HV} - P_{VH} - P_{VV} + 1,    P_{AA} - P_{AD} - P_{DA} + P_{DD} + P_{LL} - P_{LR} - P_{RL} + P_{RR} + I*(P_{AL} - P_{AR} - P_{DL} + P_{DR}) - I*(P_{LA} - P_{LD} - P_{RA} + P_{RD}), -P_{AA} - P_{AD} + P_{AH} - P_{AV} + P_{DA} + P_{DD} - P_{DH} + P_{DV} + I*(-P_{LH} + P_{LV} + P_{RH} - P_{RV}) - I*(-P_{LL} - P_{LR} + P_{RL} + P_{RR})],\n",
       "[-P_{AA} - P_{AD} - P_{AH} + P_{AV} + P_{DA} + P_{DD} + P_{DH} - P_{DV} + I*(-P_{LH} + P_{LV} + P_{RH} - P_{RV}) + I*(-P_{LL} - P_{LR} + P_{RL} + P_{RR}),    P_{AA} - P_{AD} - P_{DA} + P_{DD} + P_{LL} - P_{LR} - P_{RL} + P_{RR} - I*(P_{AL} - P_{AR} - P_{DL} + P_{DR}) + I*(P_{LA} - P_{LD} - P_{RA} + P_{RD}),                                                                                                                 -P_{HH} - P_{HV} + 3*P_{VH} - P_{VV} + 1, -P_{AA} + P_{AD} - P_{DA} + P_{DD} + P_{HA} - P_{HD} - P_{VA} + P_{VD} + I*(-P_{HL} + P_{HR} + P_{VL} - P_{VR}) - I*(-P_{LL} + P_{LR} - P_{RL} + P_{RR})],\n",
       "[   P_{AA} - P_{AD} - P_{DA} + P_{DD} - P_{LL} + P_{LR} + P_{RL} - P_{RR} + I*(P_{AL} - P_{AR} - P_{DL} + P_{DR}) + I*(P_{LA} - P_{LD} - P_{RA} + P_{RD}), -P_{AA} - P_{AD} + P_{AH} - P_{AV} + P_{DA} + P_{DD} - P_{DH} + P_{DV} - I*(-P_{LH} + P_{LV} + P_{RH} - P_{RV}) + I*(-P_{LL} - P_{LR} + P_{RL} + P_{RR}), -P_{AA} + P_{AD} - P_{DA} + P_{DD} + P_{HA} - P_{HD} - P_{VA} + P_{VD} - I*(-P_{HL} + P_{HR} + P_{VL} - P_{VR}) + I*(-P_{LL} + P_{LR} - P_{RL} + P_{RR}),                                                                                                                 -P_{HH} - P_{HV} - P_{VH} + 3*P_{VV} + 1]])"
      ]
     },
     "execution_count": 8,
     "metadata": {},
     "output_type": "execute_result"
    }
   ],
   "source": [
    "print(ss)\n",
    "\n",
    "(P_DD, P_DA, P_AD, P_AA, P_DR, P_DL, P_AR, P_AL, P_DH, P_DV, P_AH, P_AV, P_RD, P_RA, P_LD, P_LA, P_RR, P_RL, P_LR, P_LL, P_RH, P_RV, P_LH, P_LV, P_HD, P_HA, P_VD, P_VA, P_HR, P_HL, P_VR, P_VL, P_HH, P_HV, P_VH, P_VV) = symbols(\"P_{DD} P_{DA} P_{AD} P_{AA} P_{DR} P_{DL} P_{AR} P_{AL} P_{DH} P_{DV} P_{AH} P_{AV} P_{RD} P_{RA} P_{LD} P_{LA} P_{RR} P_{RL} P_{LR} P_{LL} P_{RH} P_{RV} P_{LH} P_{LV} P_{HD} P_{HA} P_{VD} P_{VA} P_{HR} P_{HL} P_{VR} P_{VL} P_{HH} P_{HV} P_{VH} P_{VV}\")\n",
    "\n",
    "rho.subs({\n",
    "\tss[0]: 1,\n",
    "\tss[1]: P_DD-P_DA+P_AD-P_AA,\n",
    "\tss[2]: P_RR-P_RL+P_LR-P_LL,\n",
    "\tss[3]: P_HH-P_HV+P_VH-P_VV,\n",
    "\tss[4]: P_DD+P_DA-P_AD-P_AA,\n",
    "\tss[5]: P_DD-P_DA-P_AD+P_AA,\n",
    "\tss[6]: P_DR-P_DL-P_AR+P_AL,\n",
    "\tss[7]: P_DH-P_DV-P_AH+P_AV,\n",
    "\tss[8]: P_RR+P_RL-P_LR-P_LL,\n",
    "\tss[9]: P_RD-P_RA-P_LD+P_LA,\n",
    "\tss[10]: P_RR-P_RL-P_LR+P_LL,\n",
    "\tss[11]: P_RH-P_RV-P_LH+P_LV,\n",
    "\tss[12]: P_HH+P_HV-P_VH-P_VV,\n",
    "\tss[13]: P_HD-P_HA-P_VD+P_VA,\n",
    "\tss[14]: P_HR-P_HL-P_VR+P_VL,\n",
    "\tss[15]: P_HH-P_HV-P_VH+P_VV,\n",
    "})"
   ]
  }
 ],
 "metadata": {
  "kernelspec": {
   "display_name": ".venv",
   "language": "python",
   "name": "python3"
  },
  "language_info": {
   "codemirror_mode": {
    "name": "ipython",
    "version": 3
   },
   "file_extension": ".py",
   "mimetype": "text/x-python",
   "name": "python",
   "nbconvert_exporter": "python",
   "pygments_lexer": "ipython3",
   "version": "3.11.3"
  },
  "orig_nbformat": 4
 },
 "nbformat": 4,
 "nbformat_minor": 2
}
