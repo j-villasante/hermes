{
 "cells": [
  {
   "cell_type": "code",
   "execution_count": 2,
   "id": "3be1b715-b58a-43c4-a3ae-ff869de22cbc",
   "metadata": {
    "tags": []
   },
   "outputs": [],
   "source": [
    "#pip install qiskit-ibmq-provider"
   ]
  },
  {
   "cell_type": "code",
   "execution_count": 1,
   "id": "477b8ece-da8e-47b0-8fbc-e735214aa2ca",
   "metadata": {
    "tags": []
   },
   "outputs": [
    {
     "name": "stderr",
     "output_type": "stream",
     "text": [
      "/tmp/ipykernel_5940/3255513040.py:9: DeprecationWarning: \n",
      "Pyarrow will become a required dependency of pandas in the next major release of pandas (pandas 3.0),\n",
      "(to allow more performant data types, such as the Arrow string type, and better interoperability with other libraries)\n",
      "but was not found to be installed on your system.\n",
      "If this would cause problems for you,\n",
      "please provide us feedback at https://github.com/pandas-dev/pandas/issues/54466\n",
      "        \n",
      "  import pandas as pd\n"
     ]
    }
   ],
   "source": [
    "from qiskit import QuantumCircuit, IBMQ, execute, Aer, transpile\n",
    "import numpy as np\n",
    "#from qiskit.tools.jupyter import *\n",
    "from qiskit.visualization import *\n",
    "#import qiskit.quantum_info as qi\n",
    "import matplotlib.pyplot as plt\n",
    "from qiskit_aer import AerSimulator\n",
    "import math\n",
    "import pandas as pd\n",
    "from math import pi\n",
    "from qiskit.providers.aer import QasmSimulator\n",
    "from qiskit.providers.fake_provider import FakeVigo\n",
    "#backend=Aer.get_backend('qasm_simulator')\n",
    "s1=[]\n",
    "s2=[]\n",
    "s3=[]\n",
    "s4=[]\n",
    "s5=[]\n",
    "s6=[]\n",
    "s7=[]\n",
    "s8=[]\n",
    "s9=[]\n",
    "s10=[]\n",
    "s11=[]\n",
    "s12=[]\n",
    "t=[]\n",
    "d1=[]\n",
    "d2=[]\n",
    "d3=[]\n",
    "d4=[]\n",
    "d5=[]\n",
    "d6=[]\n",
    "d7=[]\n",
    "d8=[]\n",
    "d9=[]\n",
    "d10=[]\n",
    "d11=[]\n",
    "d12=[]\n",
    "C=[]\n",
    "C_AB=[]\n",
    "dC_AB=[]\n",
    "dC=[]\n",
    "P_A=[]\n",
    "r=5\n",
    "c=25\n",
    "p=0.4\n",
    "op=0\n",
    "N=4000\n",
    "paso=5\n",
    "device_backend = FakeVigo()\n",
    "sim_vigo = AerSimulator.from_backend(device_backend)\n",
    "backend=sim_vigo \n",
    "#provider = IBMQ.load_account()\n",
    "#provider = IBMQ.get_provider(hub='ibm-q', group='open', project='main')\n",
    "#backend = provider.get_backend('ibm_brisbane')"
   ]
  },
  {
   "cell_type": "code",
   "execution_count": 2,
   "id": "9b87621c-92bc-4b93-ae53-65751d01d3db",
   "metadata": {
    "tags": []
   },
   "outputs": [],
   "source": [
    "alfa=2*np.arccos(np.sqrt(p))\n",
    "for k in range(1,20,4):   \n",
    "    #################################\n",
    "    q=QuantumCircuit(3,2)    \n",
    "    q.ry(alfa,0)\n",
    "    q.cx(0,1)\n",
    "    q.cry(2*(paso*np.pi*k/180),1,2)\n",
    "    q.cx(2,1)\n",
    "    q.h(1)\n",
    "    q.h(2) \n",
    "    q.measure([1,2],[0,1])\n",
    "    q1=transpile(q,backend,optimization_level=op)  \n",
    "\n",
    "    q=QuantumCircuit(3,2)    \n",
    "    q.ry(alfa,0)\n",
    "    q.cx(0,1)\n",
    "    q.cry(2*(paso*np.pi*k/180),1,2)\n",
    "    q.cx(2,1)\n",
    "    q.h(1)\n",
    "    q.h(2)  \n",
    "    q.h(2)\n",
    "    q.h(1)\n",
    "    q.cx(2,1)\n",
    "    q.cry(-2*(paso*np.pi*k/180),1,2)\n",
    "    q.cx(0,1)\n",
    "    q.ry(-alfa,0)\n",
    "    q.ry(alfa,0)\n",
    "    q.cx(0,1)\n",
    "    q.cry(2*(paso*np.pi*k/180),1,2)\n",
    "    q.cx(2,1)\n",
    "    q.h(1)\n",
    "    q.h(2)\n",
    "    q.measure([1,2],[0,1])\n",
    "    q2=transpile(q,backend,optimization_level=op)\n",
    "\n",
    "    q=QuantumCircuit(3,2)    \n",
    "    q.ry(alfa,0)\n",
    "    q.cx(0,1)\n",
    "    q.cry(2*(paso*np.pi*k/180),1,2)\n",
    "    q.cx(2,1)\n",
    "    q.h(1)\n",
    "    q.h(2) \n",
    "    q.h(2)\n",
    "    q.h(1)\n",
    "    q.cx(2,1)\n",
    "    q.cry(-2*(paso*np.pi*k/180),1,2)\n",
    "    q.cx(0,1)\n",
    "    q.ry(-alfa,0)\n",
    "    q.ry(alfa,0)\n",
    "    q.cx(0,1)\n",
    "    q.cry(2*(paso*np.pi*k/180),1,2)\n",
    "    q.cx(2,1)\n",
    "    q.h(1)\n",
    "    q.h(2)\n",
    "    q.h(2)\n",
    "    q.h(1)\n",
    "    q.cx(2,1)\n",
    "    q.cry(-2*(paso*np.pi*k/180),1,2)\n",
    "    q.cx(0,1)\n",
    "    q.ry(-alfa,0)\n",
    "    q.ry(alfa,0)\n",
    "    q.cx(0,1)\n",
    "    q.cry(2*(paso*np.pi*k/180),1,2)\n",
    "    q.cx(2,1)\n",
    "    q.h(1)\n",
    "    q.h(2)\n",
    "    q.measure([1,2],[0,1])\n",
    "    q3=transpile(q,backend,optimization_level=op)\n",
    "\n",
    "\n",
    "    q=QuantumCircuit(3,2)    \n",
    "    q.ry(alfa,0)\n",
    "    q.cx(0,1)\n",
    "    q.cry(2*(paso*np.pi*k/180),1,2)\n",
    "    q.cx(2,1)\n",
    "    q.h(1)\n",
    "    q.h(2) \n",
    "    q.h(2)\n",
    "    q.h(1)\n",
    "    q.cx(2,1)\n",
    "    q.cry(-2*(paso*np.pi*k/180),1,2)\n",
    "    q.cx(0,1)\n",
    "    q.ry(-alfa,0)\n",
    "    q.ry(alfa,0)\n",
    "    q.cx(0,1)\n",
    "    q.cry(2*(paso*np.pi*k/180),1,2)\n",
    "    q.cx(2,1)\n",
    "    q.h(1)\n",
    "    q.h(2)\n",
    "    q.h(2)\n",
    "    q.h(1)\n",
    "    q.cx(2,1)\n",
    "    q.cry(-2*(paso*np.pi*k/180),1,2)\n",
    "    q.cx(0,1)\n",
    "    q.ry(-alfa,0)\n",
    "    q.ry(alfa,0)\n",
    "    q.cx(0,1)\n",
    "    q.cry(2*(paso*np.pi*k/180),1,2)\n",
    "    q.cx(2,1)\n",
    "    q.h(1)\n",
    "    q.h(2)\n",
    "    q.h(2)\n",
    "    q.h(1)\n",
    "    q.cx(2,1)\n",
    "    q.cry(-2*(paso*np.pi*k/180),1,2)\n",
    "    q.cx(0,1)\n",
    "    q.ry(-alfa,0)\n",
    "    q.ry(alfa,0)\n",
    "    q.cx(0,1)\n",
    "    q.cry(2*(paso*np.pi*k/180),1,2)\n",
    "    q.cx(2,1)\n",
    "    q.h(1)\n",
    "    q.h(2)\n",
    "    q.measure([1,2],[0,1])\n",
    "    q4=transpile(q,backend,optimization_level=op)   \n",
    "\n",
    "    job=execute([q1 for j in range(c)]+[q2 for j in range(c)]+[q3 for j in range(c)]+[q4 for j in range(c)],backend,shots=N)\n",
    "    counts=job.result().get_counts\n",
    "\n",
    "    temp1=[]\n",
    "    temp2=[]\n",
    "    temp3=[]\n",
    "    temp4=[]\n",
    "\n",
    "    for i in range(4):\n",
    "        for j in range(i*c,(i+1)*c):\n",
    "            temp1.append(counts(j).get('00',0)/(N))\n",
    "            temp2.append(counts(j).get('01',0)/(N))\n",
    "            temp3.append(counts(j).get('10',0)/(N))\n",
    "            temp4.append(counts(j).get('11',0)/(N))\n",
    "\n",
    "        d1=np.std(temp1)\n",
    "        d2=np.std(temp2)\n",
    "        d3=np.std(temp3)\n",
    "        d4=np.std(temp4)\n",
    "        s1=sum(temp1)/c#pxhW\n",
    "        s2=sum(temp2)/c#pyh\n",
    "        s3=sum(temp3)/c#pxv\n",
    "        s4=sum(temp4)/c#pyv\n",
    "        temp1=[]\n",
    "        temp2=[]\n",
    "        temp3=[]\n",
    "        temp4=[] \n",
    "        C.append(np.abs(s1-s2-s3+s4))\n",
    "        dC.append(np.sqrt(d1**2+d2**2+d3**2+d4**2))\n",
    "\n",
    "    #y=a*exp(b*x)   \n",
    "    #ln(y)=ln(a)+b*x   \n",
    "    #fit(1)=ln(a)\n",
    "    #fit(0)=b   \n",
    "    #ln(y)=fit(1)+fit(0)*x\n",
    "    \n",
    "    dCp=([g1/g2 for g1,g2 in zip(dC,C)])\n",
    "    \n",
    "    u=[1,3,5,7]\n",
    "    fit = np.polyfit(u, np.log(C), 1)\n",
    "    C_AB.append(np.exp(fit[1]))   \n",
    "    #######################  \n",
    "    s1d2=sum([1/g2**2 for g2 in dCp])\n",
    "    ud2=sum([g1/g2**2 for g1,g2 in zip(u,dCp)])\n",
    "    u2d2=sum([g1**2/g2**2 for g1,g2 in zip(u,dCp)])\n",
    "    D=s1d2*u2d2-ud2**2\n",
    "    #######################\n",
    "    dC_AB.append(4*np.sqrt(u2d2/D)*np.exp(fit[1]))\n",
    "    dC=[]\n",
    "    C=[]\n",
    "    t.append(paso*np.pi*k/180)"
   ]
  },
  {
   "cell_type": "code",
   "execution_count": 3,
   "id": "fd199ea6-76e3-4185-91b5-17d1de920685",
   "metadata": {
    "tags": []
   },
   "outputs": [
    {
     "data": {
      "text/plain": [
       "[<matplotlib.lines.Line2D at 0x7e4bb548cfd0>]"
      ]
     },
     "execution_count": 3,
     "metadata": {},
     "output_type": "execute_result"
    },
    {
     "data": {
      "image/png": "[encoded data removed]",
      "text/plain": [
       "<Figure size 640x480 with 1 Axes>"
      ]
     },
     "metadata": {},
     "output_type": "display_data"
    }
   ],
   "source": [
    "th = np.linspace(0, pi/2, 300,endpoint=True)\n",
    "C = (1-p)*np.abs(np.sin(2*th))\n",
    "\n",
    "plt.errorbar(t, C_AB, dC_AB, fmt = 'r.')\n",
    "plt.plot(th,C,'b.', markersize=2)"
   ]
  },
  {
   "cell_type": "code",
   "execution_count": 5,
   "id": "9472b4c0-0124-4345-a16c-51b90477f268",
   "metadata": {
    "tags": []
   },
   "outputs": [],
   "source": [
    "#0.0819753628687345-0.056322507101700336\n",
    "#0.3503875838837155-0.05431506740541488\n",
    "#0.5454139078268327-0.058486775814105\n",
    "#0.33424961257183855-0.06031358979152084\n",
    "#0.06791787520483882-0.041555562053726125"
   ]
  },
  {
   "cell_type": "code",
   "execution_count": 9,
   "id": "1c5ba5ee-c269-4e4f-aeb8-a610336b9ab8",
   "metadata": {},
   "outputs": [],
   "source": [
    "t=[0.08726646259971647,0.3490658503988659,0.7853981633974483,1.2217304763960306,1.4835298641951802]"
   ]
  },
  {
   "cell_type": "code",
   "execution_count": 10,
   "id": "30ac4895-1ee0-4fc2-92e7-92fa67a2ebdf",
   "metadata": {
    "tags": []
   },
   "outputs": [
    {
     "data": {
      "text/plain": [
       "[<matplotlib.lines.Line2D at 0x7e4bf092bbd0>]"
      ]
     },
     "execution_count": 10,
     "metadata": {},
     "output_type": "execute_result"
    },
    {
     "data": {
      "image/png": "[encoded data removed]",
      "text/plain": [
       "<Figure size 640x480 with 1 Axes>"
      ]
     },
     "metadata": {},
     "output_type": "display_data"
    }
   ],
   "source": [
    "C_AB=[0.0819753628687345,0.3503875838837155,0.5454139078268327,0.33424961257183855,0.06791787520483882]\n",
    "dC_AB=[0.056322507101700336,0.05431506740541488,0.058486775814105,0.06031358979152084,0.041555562053726125]\n",
    "th = np.linspace(0, pi/2, 300,endpoint=True)\n",
    "C = (1-p)*np.abs(np.sin(2*th))\n",
    "\n",
    "plt.errorbar(t, C_AB, dC_AB, fmt = 'r.')\n",
    "plt.plot(th,C,'b.', markersize=2)"
   ]
  }
 ],
 "metadata": {
  "kernelspec": {
   "display_name": "Python 3 [Default]",
   "language": "python",
   "name": "python3"
  },
  "language_info": {
   "codemirror_mode": {
    "name": "ipython",
    "version": 3
   },
   "file_extension": ".py",
   "mimetype": "text/x-python",
   "name": "python",
   "nbconvert_exporter": "python",
   "pygments_lexer": "ipython3",
   "version": "3.11.7"
  }
 },
 "nbformat": 4,
 "nbformat_minor": 5
}
