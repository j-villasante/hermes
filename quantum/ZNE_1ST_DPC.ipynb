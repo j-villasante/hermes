{
 "cells": [
  {
   "cell_type": "code",
   "execution_count": 4,
   "id": "55f0db2a-5b5f-4099-930c-84791361077a",
   "metadata": {
    "tags": []
   },
   "outputs": [],
   "source": [
    "from qiskit import QuantumCircuit, transpile\n",
    "import numpy as np\n",
    "from qiskit.visualization import *\n",
    "import matplotlib.pyplot as plt\n",
    "import math\n",
    "from itertools import repeat\n",
    "from qiskit.transpiler.preset_passmanagers import generate_preset_pass_manager\n",
    "from math import pi\n",
    "from qiskit_ibm_runtime.fake_provider import FakeCairoV2\n",
    "from qiskit.primitives import Sampler as PrimitiveSampler\n",
    "from qiskit_ibm_runtime import Session, Sampler, Options\n",
    "from qiskit_ibm_runtime import QiskitRuntimeService\n",
    "\n",
    "service = QiskitRuntimeService(\n",
    "    channel='ibm_quantum',\n",
    "    instance='ibm-q/open/main',\n",
    ")\n",
    "\n",
    "# Or save your credentials on disk.\n",
    "# QiskitRuntimeService.save_account(channel='ibm_quantum', instance='ibm-q/open/main', token='77c4fd44d223c6449ccd19f492a7a3d3ec15c32067d6a862fb40aefe4fea96376a2e5e34bb5c2817aedc51576224da7d0da4138eaca260a22d9ed48b92d8734d')\n",
    "\n",
    "s1=[]\n",
    "s2=[]\n",
    "s3=[]\n",
    "s4=[]\n",
    "t=[]\n",
    "d1=[]\n",
    "d2=[]\n",
    "d3=[]\n",
    "d4=[]\n",
    "C=[]\n",
    "C_AB=[]\n",
    "dC_AB=[]\n",
    "dC=[]\n",
    "P_A=[]\n",
    "r=5\n",
    "c=20\n",
    "p=0.6\n",
    "op=0\n",
    "N=4000\n",
    "paso=5\n",
    "#backend = service.get_backend(\"ibm_brisbane\")\n",
    "# backend = service.get_backend(\"ibmq_qasm_simulator\")"
   ]
  },
  {
   "cell_type": "code",
   "execution_count": 12,
   "id": "3e43f97e-1cbd-4ccc-b539-d0df9269e7ee",
   "metadata": {
    "tags": []
   },
   "outputs": [],
   "source": [
    "#5-6-7\n",
    "def build_circuit(p, theta, zne):\n",
    "    state = np.array([np.sqrt(p/4),-np.sqrt(p/4),np.sqrt(p/4),np.sqrt((4-3*p)/4)])\n",
    "    \n",
    "    q1=QuantumCircuit(16,2)  \n",
    "    # q1.initialize(state,[4,5])\n",
    "    \n",
    "    q2=QuantumCircuit(16,2)  \n",
    "    q2.cx(4,15)\n",
    "    q2.cry(np.pi-2*theta,15,3)\n",
    "    q2.cx(5,4)\n",
    "    q2.cx(5,3)\n",
    "    q2.cz(4,3)\n",
    "    q2.cx(3,15)\n",
    "    q2.h(3)\n",
    "    q2.h(15)\n",
    "    \n",
    "\n",
    "    i = zne\n",
    "    \n",
    "    q=q1.compose(q2)\n",
    "    qd=q2.inverse().compose(q1)\n",
    "    qf=q\n",
    "    \n",
    "    if i>1:\n",
    "        for k in range(i-1):\n",
    "            if k%2==0:\n",
    "                qf=qf.compose(qd)\n",
    "            else:\n",
    "                qf=qf.compose(q)\n",
    "\n",
    "    qf.measure([3,15],[0,1])\n",
    "    return qf"
   ]
  },
  {
   "cell_type": "code",
   "execution_count": 13,
   "id": "d2172960-efb1-45da-b11f-c3654d708a63",
   "metadata": {
    "tags": []
   },
   "outputs": [
    {
     "name": "stderr",
     "output_type": "stream",
     "text": [
      "/home/josue/Projects/physics/hermes/.venv/lib/python3.11/site-packages/qiskit_ibm_runtime/qiskit_runtime_service.py:927: UserWarning: Starting a session using the /jobs endpoint will no longer be supported after March 31, 2024. Please update your code as soon as possible before this date. If you are using qiskit-ibm-runtime, you will need version 0.20.0 or higher. If you are using qiskit-ibm-provider, you will need version 0.10.0 or higher. If you are calling the API directly, please use the /sessions endpoint instead.\n",
      "  warnings.warn(warning_message)\n"
     ]
    },
    {
     "ename": "RuntimeJobFailureError",
     "evalue": "'Unable to retrieve job result. Circuits do not match the target definition (non-ISA circuits). -- \\\\n        Transpile your circuits for the target before submitting a primitive query. For\\\\n        example, you can use the following code block given an IBMBackend object `backend`\\\\n        and circuits of type `List[QuantumCircuit]`:\\\\n            from qiskit.transpiler.preset_passmanagers import generate_preset_pass_manager\\\\n            pm = generate_preset_pass_manager(optimization_level=1, target=backend.target)\\\\n            isa_circuits = pm.run(circuits)\\\\n        Then pass `isa_circuits` to the Sampler or Estimator.\\\\n         -- https://ibm.biz/error_codes#1517'",
     "output_type": "error",
     "traceback": [
      "\u001b[0;31m---------------------------------------------------------------------------\u001b[0m",
      "\u001b[0;31mRuntimeJobFailureError\u001b[0m                    Traceback (most recent call last)",
      "Cell \u001b[0;32mIn[13], line 22\u001b[0m\n\u001b[1;32m     20\u001b[0m     sampler \u001b[38;5;241m=\u001b[39m Sampler(session\u001b[38;5;241m=\u001b[39msession, options\u001b[38;5;241m=\u001b[39moptions) \n\u001b[1;32m     21\u001b[0m     job \u001b[38;5;241m=\u001b[39m sampler\u001b[38;5;241m.\u001b[39mrun(isa_circuits, shots\u001b[38;5;241m=\u001b[39mN)\n\u001b[0;32m---> 22\u001b[0m     counts\u001b[38;5;241m=\u001b[39m\u001b[43mjob\u001b[49m\u001b[38;5;241;43m.\u001b[39;49m\u001b[43mresult\u001b[49m\u001b[43m(\u001b[49m\u001b[43m)\u001b[49m\u001b[38;5;241m.\u001b[39mquasi_dists\n\u001b[1;32m     24\u001b[0m temp1\u001b[38;5;241m=\u001b[39m[]\n\u001b[1;32m     25\u001b[0m temp2\u001b[38;5;241m=\u001b[39m[]\n",
      "File \u001b[0;32m~/Projects/physics/hermes/.venv/lib/python3.11/site-packages/qiskit_ibm_runtime/runtime_job.py:222\u001b[0m, in \u001b[0;36mRuntimeJob.result\u001b[0;34m(self, timeout, decoder)\u001b[0m\n\u001b[1;32m    220\u001b[0m     \u001b[38;5;28;01mif\u001b[39;00m \u001b[38;5;28mself\u001b[39m\u001b[38;5;241m.\u001b[39m_reason \u001b[38;5;241m==\u001b[39m \u001b[38;5;124m\"\u001b[39m\u001b[38;5;124mRAN TOO LONG\u001b[39m\u001b[38;5;124m\"\u001b[39m:\n\u001b[1;32m    221\u001b[0m         \u001b[38;5;28;01mraise\u001b[39;00m RuntimeJobMaxTimeoutError(error_message)\n\u001b[0;32m--> 222\u001b[0m     \u001b[38;5;28;01mraise\u001b[39;00m RuntimeJobFailureError(\u001b[38;5;124mf\u001b[39m\u001b[38;5;124m\"\u001b[39m\u001b[38;5;124mUnable to retrieve job result. \u001b[39m\u001b[38;5;132;01m{\u001b[39;00merror_message\u001b[38;5;132;01m}\u001b[39;00m\u001b[38;5;124m\"\u001b[39m)\n\u001b[1;32m    223\u001b[0m \u001b[38;5;28;01mif\u001b[39;00m \u001b[38;5;28mself\u001b[39m\u001b[38;5;241m.\u001b[39m_status \u001b[38;5;129;01mis\u001b[39;00m JobStatus\u001b[38;5;241m.\u001b[39mCANCELLED:\n\u001b[1;32m    224\u001b[0m     \u001b[38;5;28;01mraise\u001b[39;00m RuntimeInvalidStateError(\n\u001b[1;32m    225\u001b[0m         \u001b[38;5;124m\"\u001b[39m\u001b[38;5;124mUnable to retrieve result for job \u001b[39m\u001b[38;5;132;01m{}\u001b[39;00m\u001b[38;5;124m. \u001b[39m\u001b[38;5;124m\"\u001b[39m \u001b[38;5;124m\"\u001b[39m\u001b[38;5;124mJob was cancelled.\u001b[39m\u001b[38;5;124m\"\u001b[39m\u001b[38;5;241m.\u001b[39mformat(\u001b[38;5;28mself\u001b[39m\u001b[38;5;241m.\u001b[39mjob_id())\n\u001b[1;32m    226\u001b[0m     )\n",
      "\u001b[0;31mRuntimeJobFailureError\u001b[0m: 'Unable to retrieve job result. Circuits do not match the target definition (non-ISA circuits). -- \\\\n        Transpile your circuits for the target before submitting a primitive query. For\\\\n        example, you can use the following code block given an IBMBackend object `backend`\\\\n        and circuits of type `List[QuantumCircuit]`:\\\\n            from qiskit.transpiler.preset_passmanagers import generate_preset_pass_manager\\\\n            pm = generate_preset_pass_manager(optimization_level=1, target=backend.target)\\\\n            isa_circuits = pm.run(circuits)\\\\n        Then pass `isa_circuits` to the Sampler or Estimator.\\\\n         -- https://ibm.biz/error_codes#1517'"
     ]
    }
   ],
   "source": [
    "s_size = 5\n",
    "N = 4000\n",
    "angles = 5\n",
    "zne_size = 4\n",
    "p = 0.6\n",
    "\n",
    "circuits = []\n",
    "thetas = np.linspace(0.1, pi / 2 - 0.1, angles)\n",
    "for t in thetas:\n",
    "    for i in range(zne_size):\n",
    "        circuits.extend(repeat(build_circuit(p, t, i), s_size))\n",
    "\n",
    "pm = generate_preset_pass_manager(target=backend.target, optimization_level=3)\n",
    "isa_circuits = pm.run(circuits)\n",
    "\n",
    "options = Options()\n",
    "options.resilience_level = 1\n",
    "\n",
    "with Session(service=service, backend=\"ibm_brisbane\") as session:\n",
    "    sampler = Sampler(session=session, options=options) \n",
    "    job = sampler.run(isa_circuits, shots=N)\n",
    "    counts=job.result().quasi_dists\n",
    "\n",
    "temp1=[]\n",
    "temp2=[]\n",
    "temp3=[]\n",
    "temp4=[]\n",
    "for i in range(5):\n",
    "    for j in range(i*c,(i+1)*c):\n",
    "        temp1.append(counts[j].binary_probabilities().get('00',0))\n",
    "        temp2.append(counts[j].binary_probabilities().get('01',0))\n",
    "        temp3.append(counts[j].binary_probabilities().get('10',0))\n",
    "        temp4.append(counts[j].binary_probabilities().get('11',0))\n",
    "    \n",
    "    d1=np.std(temp1)\n",
    "    d2=np.std(temp2)\n",
    "    d3=np.std(temp3)\n",
    "    d4=np.std(temp4)\n",
    "    s1=sum(temp1)/c#pxh\n",
    "    s2=sum(temp2)/c#pyh\n",
    "    s3=sum(temp3)/c#pxv\n",
    "    s4=sum(temp4)/c#pyv\n",
    "    temp1=[]\n",
    "    temp2=[]\n",
    "    temp3=[]\n",
    "    temp4=[] \n",
    "    C_AB.append(np.abs(s1-s2-s3+s4))\n",
    "    dC_AB.append(np.sqrt(d1**2+d2**2+d3**2+d4**2))\n",
    "\n",
    "    \n",
    "ts=[paso*np.pi*k/180 for k in thetas]"
   ]
  },
  {
   "cell_type": "code",
   "execution_count": 32,
   "id": "2f147ba2-65fb-46be-bbda-10830a8b5dca",
   "metadata": {
    "tags": []
   },
   "outputs": [
    {
     "data": {
      "text/plain": [
       "[<matplotlib.lines.Line2D at 0x7fb7d76f9450>]"
      ]
     },
     "execution_count": 32,
     "metadata": {},
     "output_type": "execute_result"
    },
    {
     "data": {
      "image/png": "[encoded data removed]",
      "text/plain": [
       "<Figure size 640x480 with 1 Axes>"
      ]
     },
     "metadata": {},
     "output_type": "display_data"
    }
   ],
   "source": [
    "th = np.linspace(0, pi/2, 300,endpoint=True)\n",
    "C = (1-p)*np.abs(np.sin(2*th))\n",
    "\n",
    "plt.errorbar(ts, C_AB, dC_AB, fmt = 'r.')\n",
    "plt.plot(th,C,'b.', markersize=2)"
   ]
  },
  {
   "cell_type": "code",
   "execution_count": 9,
   "id": "8afc5b88-d2bf-41f2-9f8c-b71c319bbb84",
   "metadata": {
    "tags": []
   },
   "outputs": [
    {
     "data": {
      "text/plain": [
       "[0.01912642661410092,\n",
       " 0.27943736446619705,\n",
       " 0.377587500435021,\n",
       " 0.40725597583394263,\n",
       " 0.11447301624853219]"
      ]
     },
     "execution_count": 9,
     "metadata": {},
     "output_type": "execute_result"
    }
   ],
   "source": [
    "zne_con"
   ]
  },
  {
   "cell_type": "code",
   "execution_count": 10,
   "id": "d23dbcce-b08a-4c22-8959-34afa9024be0",
   "metadata": {
    "tags": []
   },
   "outputs": [
    {
     "data": {
      "text/plain": [
       "[0.17737677780796368,\n",
       " 0.2186843952498506,\n",
       " 0.13129567377633566,\n",
       " 0.297807939239187,\n",
       " 0.23965180227053154]"
      ]
     },
     "execution_count": 10,
     "metadata": {},
     "output_type": "execute_result"
    }
   ],
   "source": [
    "dC_AB"
   ]
  },
  {
   "cell_type": "code",
   "execution_count": null,
   "id": "7ce26d35-7c02-4092-8188-f0b08ecb3974",
   "metadata": {},
   "outputs": [],
   "source": []
  }
 ],
 "metadata": {
  "kernelspec": {
   "display_name": "Qiskit v1.0.1 (ipykernel)",
   "language": "python",
   "name": "python3"
  },
  "language_info": {
   "codemirror_mode": {
    "name": "ipython",
    "version": 3
   },
   "file_extension": ".py",
   "mimetype": "text/x-python",
   "name": "python",
   "nbconvert_exporter": "python",
   "pygments_lexer": "ipython3",
   "version": "3.11.3"
  },
  "widgets": {
   "application/vnd.jupyter.widget-state+json": {
    "state": {},
    "version_major": 2,
    "version_minor": 0
   }
  }
 },
 "nbformat": 4,
 "nbformat_minor": 5
}
