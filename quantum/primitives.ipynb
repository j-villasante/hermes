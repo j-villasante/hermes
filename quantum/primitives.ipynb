{
 "cells": [
  {
   "cell_type": "code",
   "execution_count": 3,
   "metadata": {},
   "outputs": [
    {
     "name": "stdout",
     "output_type": "stream",
     "text": [
      ">>> Observable: ['ZZ']\n",
      "EstimatorResult(values=array([2.22044605e-16]), metadata=[{}])\n"
     ]
    },
    {
     "data": {
      "text/latex": [
       "$$\n",
       "\n",
       "\\begin{bmatrix}\n",
       "1 & 0 & 0 & 0  \\\\\n",
       " 0 & -1 & 0 & 0  \\\\\n",
       " 0 & 0 & 1 & 0  \\\\\n",
       " 0 & 0 & 0 & -1  \\\\\n",
       " \\end{bmatrix}\n",
       "$$"
      ],
      "text/plain": [
       "<IPython.core.display.Latex object>"
      ]
     },
     "execution_count": 3,
     "metadata": {},
     "output_type": "execute_result"
    }
   ],
   "source": [
    "from qiskit import QuantumCircuit\n",
    "from qiskit.quantum_info import SparsePauliOp\n",
    "from qiskit.primitives import Estimator\n",
    "from qiskit.visualization import array_to_latex\n",
    "from math import pi\n",
    "\n",
    "qc = QuantumCircuit(2)\n",
    "qc.u(0, 0, 0, 0)\n",
    "qc.u(pi/2, 0, 0, 1)\n",
    "qc.draw(\"mpl\")\n",
    "\n",
    "observable = SparsePauliOp(\"ZZ\")\n",
    "estimator = Estimator()\n",
    "job = estimator.run(qc, observable)\n",
    "result = job.result()\n",
    "print(f\">>> Observable: {observable.paulis}\")\n",
    "print(result)\n",
    "array_to_latex(SparsePauliOp(\"IZ\").to_matrix())"
   ]
  },
  {
   "cell_type": "code",
   "execution_count": 20,
   "metadata": {},
   "outputs": [
    {
     "data": {
      "image/png": "[encoded data removed]",
      "text/plain": [
       "<Figure size 287.294x200.667 with 1 Axes>"
      ]
     },
     "execution_count": 20,
     "metadata": {},
     "output_type": "execute_result"
    }
   ],
   "source": [
    "from qiskit import QuantumCircuit\n",
    "from qiskit_experiments.library import StateTomography\n",
    "\n",
    "qc = QuantumCircuit(2)\n",
    "qc.cu(pi, 0, 0, 0, 0, 1)\n",
    "qc.cnot(1, 0)\n",
    "\n",
    "qc.draw(\"mpl\")"
   ]
  }
 ],
 "metadata": {
  "kernelspec": {
   "display_name": ".venv",
   "language": "python",
   "name": "python3"
  },
  "language_info": {
   "codemirror_mode": {
    "name": "ipython",
    "version": 3
   },
   "file_extension": ".py",
   "mimetype": "text/x-python",
   "name": "python",
   "nbconvert_exporter": "python",
   "pygments_lexer": "ipython3",
   "version": "3.11.3"
  },
  "orig_nbformat": 4
 },
 "nbformat": 4,
 "nbformat_minor": 2
}
