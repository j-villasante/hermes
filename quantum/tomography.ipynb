{
 "cells": [
  {
   "cell_type": "code",
   "execution_count": 2,
   "metadata": {},
   "outputs": [],
   "source": [
    "from qiskit import QuantumCircuit\n",
    "from qiskit_aer import AerProvider\n",
    "from qiskit.circuit import Clbit, ClassicalRegister\n",
    "from qiskit_experiments.library import StateTomography\n",
    "from qiskit.visualization import array_to_latex, plot_state_city\n",
    "from qiskit.quantum_info import DensityMatrix, Pauli\n",
    "from itertools import repeat, product\n",
    "from operator import add, mul\n",
    "import numpy as np\n",
    "from qiskit.primitives import Sampler\n",
    "from qiskit_ibm_runtime import QiskitRuntimeService"
   ]
  },
  {
   "cell_type": "code",
   "execution_count": 5,
   "metadata": {},
   "outputs": [
    {
     "data": {
      "text/html": [
       "<pre style=\"word-wrap: normal;white-space: pre;background: #fff0;line-height: 1.1;font-family: &quot;Courier New&quot;,Courier,monospace\">     ┌───┐     \n",
       "q_0: ┤ H ├──■──\n",
       "     └───┘┌─┴─┐\n",
       "q_1: ─────┤ X ├\n",
       "          └───┘</pre>"
      ],
      "text/plain": [
       "     ┌───┐     \n",
       "q_0: ┤ H ├──■──\n",
       "     └───┘┌─┴─┐\n",
       "q_1: ─────┤ X ├\n",
       "          └───┘"
      ]
     },
     "execution_count": 5,
     "metadata": {},
     "output_type": "execute_result"
    }
   ],
   "source": [
    "qc = QuantumCircuit(2)\n",
    "qc.h(0)\n",
    "qc.cx(0, 1)\n",
    "qc.draw()"
   ]
  },
  {
   "cell_type": "code",
   "execution_count": 6,
   "metadata": {},
   "outputs": [
    {
     "ename": "NameError",
     "evalue": "name 'Aer' is not defined",
     "output_type": "error",
     "traceback": [
      "\u001b[0;31m---------------------------------------------------------------------------\u001b[0m",
      "\u001b[0;31mNameError\u001b[0m                                 Traceback (most recent call last)",
      "Cell \u001b[0;32mIn[6], line 2\u001b[0m\n\u001b[1;32m      1\u001b[0m st \u001b[39m=\u001b[39m StateTomography(qc)\n\u001b[0;32m----> 2\u001b[0m backend \u001b[39m=\u001b[39m Aer\u001b[39m.\u001b[39mget_backend(\u001b[39m'\u001b[39m\u001b[39maer_simulator\u001b[39m\u001b[39m'\u001b[39m)\n\u001b[1;32m      3\u001b[0m stdata \u001b[39m=\u001b[39m st\u001b[39m.\u001b[39mrun(backend, shots\u001b[39m=\u001b[39m\u001b[39m1000\u001b[39m)\u001b[39m.\u001b[39mblock_for_results()\n\u001b[1;32m      4\u001b[0m state_result \u001b[39m=\u001b[39m stdata\u001b[39m.\u001b[39manalysis_results(\u001b[39m\"\u001b[39m\u001b[39mstate\u001b[39m\u001b[39m\"\u001b[39m)\n",
      "\u001b[0;31mNameError\u001b[0m: name 'Aer' is not defined"
     ]
    }
   ],
   "source": [
    "st = StateTomography(qc)\n",
    "backend = Aer.get_backend('aer_simulator')\n",
    "stdata = st.run(backend, shots=1000).block_for_results()\n",
    "state_result = stdata.analysis_results(\"state\")\n",
    "# array_to_latex(state_result.value)\n",
    "plot_state_city(state_result.value)\n"
   ]
  },
  {
   "attachments": {},
   "cell_type": "markdown",
   "metadata": {},
   "source": [
    "# Stoke's parameters tomography"
   ]
  },
  {
   "cell_type": "code",
   "execution_count": 28,
   "metadata": {},
   "outputs": [
    {
     "name": "stdout",
     "output_type": "stream",
     "text": [
      "Performing measurement (1, 1)\n",
      "Performing measurement (1, 2)\n",
      "Performing measurement (1, 3)\n",
      "Performing measurement (2, 1)\n",
      "Performing measurement (2, 2)\n",
      "Performing measurement (2, 3)\n",
      "Performing measurement (3, 1)\n",
      "Performing measurement (3, 2)\n",
      "Performing measurement (3, 3)\n"
     ]
    },
    {
     "data": {
      "text/latex": [
       "$$\n",
       "\n",
       "\\begin{bmatrix}\n",
       "\\frac{1}{4} & \\frac{1}{4} & \\frac{1}{4} & \\frac{1}{4}  \\\\\n",
       " \\frac{1}{4} & \\frac{1}{4} & \\frac{1}{4} & \\frac{1}{4}  \\\\\n",
       " \\frac{1}{4} & \\frac{1}{4} & \\frac{1}{4} & \\frac{1}{4}  \\\\\n",
       " \\frac{1}{4} & \\frac{1}{4} & \\frac{1}{4} & \\frac{1}{4}  \\\\\n",
       " \\end{bmatrix}\n",
       "$$"
      ],
      "text/plain": [
       "<IPython.core.display.Latex object>"
      ]
     },
     "execution_count": 28,
     "metadata": {},
     "output_type": "execute_result"
    }
   ],
   "source": [
    "def n_tomography(qc: QuantumCircuit, meas_qbits: list[int]) -> DensityMatrix:\n",
    "    basis = [1, 2, 3]\n",
    "    n_qbits = len(meas_qbits)\n",
    "    p = np.zeros(list(repeat(6, n_qbits)))\n",
    "    s = np.zeros(list(repeat(4, n_qbits)))\n",
    "    s[0, 0] = 1\n",
    "    for measurement in product(*repeat(basis, n_qbits)):\n",
    "        print(f\"Performing measurement {measurement}\")\n",
    "        sampler = Sampler()\n",
    "        _qc = qc.copy()\n",
    "        _qc.name = \"\".join(\"\".join(str(i) for i in measurement))\n",
    "        for i in range(0, n_qbits):\n",
    "            m = measurement[i]\n",
    "            if m == 1:\n",
    "                _qc.h(meas_qbits[i])\n",
    "            elif m == 2:\n",
    "                _qc.sdg(meas_qbits[i])\n",
    "                _qc.h(meas_qbits[i])\n",
    "        \n",
    "        cl_reg = ClassicalRegister(bits=[Clbit() for _ in range(n_qbits)])\n",
    "        _qc.add_register(cl_reg)\n",
    "        _qc.measure(meas_qbits, list(range(0, n_qbits)))   \n",
    "\n",
    "        job = sampler.run(_qc)\n",
    "        result = job.result()\n",
    "\n",
    "        # print(f\"Result: {result.quasi_dists[0]}\")\n",
    "\n",
    "        i = 0\n",
    "        start = (np.array(measurement) - 1) * 2\n",
    "        for delta in product(*repeat([0, 1], n_qbits)):\n",
    "            res_obj = result.quasi_dists[0]\n",
    "            prob = res_obj[i] if i in res_obj else 0\n",
    "            pos = start + np.array(delta)\n",
    "            p[*pos] = prob\n",
    "\n",
    "            if sum(pos) % 2 == 0:\n",
    "                s[*measurement] += prob\n",
    "            else:\n",
    "                s[*measurement] -= prob\n",
    "\n",
    "            i += 1\n",
    "    # print(p)\n",
    "    for i in basis:\n",
    "        j = 0\n",
    "        start = (np.array([i, i]) - 1) * 2\n",
    "        for delta in product(*repeat([0, 1], n_qbits)):\n",
    "            pos = start + np.array(delta)\n",
    "            if j % 2 == 0:\n",
    "                s[0, i] += p[*pos]\n",
    "            else:\n",
    "                s[0, i] -= p[*pos]\n",
    "\n",
    "            if j < (2 ** n_qbits) / 2:\n",
    "                s[i, 0] += p[*pos]\n",
    "            else:\n",
    "                s[i, 0] -= p[*pos]\n",
    "\n",
    "            j += 1\n",
    "    # print(p)\n",
    "    # print(s)\n",
    "\n",
    "    p_map = [\"I\", \"X\", \"Y\", \"Z\"]\n",
    "    density = np.zeros((2**n_qbits, 2**n_qbits), dtype=np.complex128)\n",
    "    for measurement in product(*repeat([0] + basis, n_qbits)): \n",
    "        key = \"\".join([p_map[i] for i in measurement])\n",
    "        pauli = Pauli(key).to_matrix()\n",
    "        density += s[*measurement] * pauli\n",
    "    density /= (2 ** n_qbits)\n",
    "\n",
    "    return DensityMatrix(density)\n",
    "\n",
    "qc = QuantumCircuit(2)\n",
    "qc.h(0)\n",
    "qc.h(1)\n",
    "\n",
    "array_to_latex(n_tomography(qc, [0, 1]).data)\n"
   ]
  },
  {
   "cell_type": "code",
   "execution_count": 7,
   "metadata": {},
   "outputs": [
    {
     "data": {
      "text/latex": [
       "$$\n",
       "\n",
       "\\begin{bmatrix}\n",
       "\\frac{1}{4} & \\frac{1}{4} & \\frac{1}{4} & \\frac{1}{4}  \\\\\n",
       " \\frac{1}{4} & \\frac{1}{4} & \\frac{1}{4} & \\frac{1}{4}  \\\\\n",
       " \\frac{1}{4} & \\frac{1}{4} & \\frac{1}{4} & \\frac{1}{4}  \\\\\n",
       " \\frac{1}{4} & \\frac{1}{4} & \\frac{1}{4} & \\frac{1}{4}  \\\\\n",
       " \\end{bmatrix}\n",
       "$$"
      ],
      "text/plain": [
       "<IPython.core.display.Latex object>"
      ]
     },
     "execution_count": 7,
     "metadata": {},
     "output_type": "execute_result"
    }
   ],
   "source": [
    "array_to_latex(DensityMatrix(qc).data)"
   ]
  },
  {
   "cell_type": "code",
   "execution_count": 16,
   "metadata": {},
   "outputs": [
    {
     "data": {
      "text/latex": [
       "$$\n",
       "\n",
       "\\begin{bmatrix}\n",
       "0 & 0 & 0 & 0 & 0 & 0 & 0 & - i  \\\\\n",
       " 0 & 0 & 0 & 0 & 0 & 0 & - i & 0  \\\\\n",
       " 0 & 0 & 0 & 0 & 0 & i & 0 & 0  \\\\\n",
       " 0 & 0 & 0 & 0 & i & 0 & 0 & 0  \\\\\n",
       " 0 & 0 & 0 & - i & 0 & 0 & 0 & 0  \\\\\n",
       " 0 & 0 & - i & 0 & 0 & 0 & 0 & 0  \\\\\n",
       " 0 & i & 0 & 0 & 0 & 0 & 0 & 0  \\\\\n",
       " i & 0 & 0 & 0 & 0 & 0 & 0 & 0  \\\\\n",
       " \\end{bmatrix}\n",
       "$$"
      ],
      "text/plain": [
       "<IPython.core.display.Latex object>"
      ]
     },
     "execution_count": 16,
     "metadata": {},
     "output_type": "execute_result"
    }
   ],
   "source": [
    "from qiskit.quantum_info import Pauli\n",
    "\n",
    "array_to_latex(Pauli(\"XYX\").to_matrix())"
   ]
  },
  {
   "cell_type": "code",
   "execution_count": 4,
   "metadata": {},
   "outputs": [
    {
     "data": {
      "text/latex": [
       "$$\n",
       "\n",
       "\\begin{bmatrix}\n",
       "0.3333331667 & 0 & 0 & 0.1666663333  \\\\\n",
       " 0 & 0.1666668333 & 0 & 0  \\\\\n",
       " 0 & 0 & 0.1666668333 & 0  \\\\\n",
       " 0.1666663333 & 0 & 0 & 0.3333331667  \\\\\n",
       " \\end{bmatrix}\n",
       "$$"
      ],
      "text/plain": [
       "<IPython.core.display.Latex object>"
      ]
     },
     "execution_count": 4,
     "metadata": {},
     "output_type": "execute_result"
    }
   ],
   "source": [
    "from common.qiskit_run import create_density_matrix\n",
    "from json import load\n",
    "\n",
    "with open(\"./quantum/data/amplitude_damping.json\") as f:\n",
    "\texp = load(f)\n",
    "\n",
    "jobs = exp[0][\"jobs\"]\n",
    "\n",
    "dm = create_density_matrix(jobs)\n",
    "array_to_latex(dm.data)"
   ]
  }
 ],
 "metadata": {
  "kernelspec": {
   "display_name": ".venv",
   "language": "python",
   "name": "python3"
  },
  "language_info": {
   "codemirror_mode": {
    "name": "ipython",
    "version": 3
   },
   "file_extension": ".py",
   "mimetype": "text/x-python",
   "name": "python",
   "nbconvert_exporter": "python",
   "pygments_lexer": "ipython3",
   "version": "3.11.3"
  },
  "orig_nbformat": 4
 },
 "nbformat": 4,
 "nbformat_minor": 2
}
