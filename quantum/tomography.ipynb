{
 "cells": [
  {
   "cell_type": "code",
   "execution_count": 22,
   "metadata": {},
   "outputs": [
    {
     "ename": "TypeError",
     "evalue": "unsupported operand type(s) for +: 'int' and 'list'",
     "output_type": "error",
     "traceback": [
      "\u001b[0;31m---------------------------------------------------------------------------\u001b[0m",
      "\u001b[0;31mTypeError\u001b[0m                                 Traceback (most recent call last)",
      "Cell \u001b[0;32mIn[22], line 11\u001b[0m\n\u001b[1;32m      8\u001b[0m M_0 \u001b[39m=\u001b[39m Matrix([[\u001b[39m1\u001b[39m, \u001b[39m0\u001b[39m], [\u001b[39m0\u001b[39m, sqrt(\u001b[39m1\u001b[39m\u001b[39m-\u001b[39mp)]])\n\u001b[1;32m      9\u001b[0m M_1 \u001b[39m=\u001b[39m Matrix([[\u001b[39m0\u001b[39m, sqrt(p)], [\u001b[39m0\u001b[39m, \u001b[39m0\u001b[39m]])\n\u001b[0;32m---> 11\u001b[0m f_psi \u001b[39m=\u001b[39m \u001b[39msum\u001b[39;49m([\u001b[39msum\u001b[39;49m(ox(m_u, m_v) \u001b[39m*\u001b[39;49m (dpsi \u001b[39m*\u001b[39;49m dpsi\u001b[39m.\u001b[39;49mH)) \u001b[39mfor\u001b[39;49;00m m_v \u001b[39min\u001b[39;49;00m [M_0, M_1]] \u001b[39mfor\u001b[39;49;00m m_u \u001b[39min\u001b[39;49;00m [M_0, M_1])\n",
      "\u001b[0;31mTypeError\u001b[0m: unsupported operand type(s) for +: 'int' and 'list'"
     ]
    }
   ],
   "source": [
    "from sympy import Matrix, I, sqrt, symbols, exp, cos, sin\n",
    "from sympy.physics.quantum import TensorProduct as ox\n",
    "\n",
    "theta, psi, p = symbols(r\"\\theta, \\phi, p\", real=True)\n",
    "\n",
    "dpsi = Matrix([0, cos(theta), exp(I * psi) * sin(theta), 0])\n",
    "\n",
    "M_0 = Matrix([[1, 0], [0, sqrt(1-p)]])\n",
    "M_1 = Matrix([[0, sqrt(p)], [0, 0]])\n",
    "\n",
    "f_psi = sum(sum(ox(m_u, m_v) * (dpsi * dpsi.H)) for m_v in [M_0, M_1]] for m_u in [M_0, M_1)"
   ]
  },
  {
   "attachments": {},
   "cell_type": "markdown",
   "metadata": {},
   "source": []
  }
 ],
 "metadata": {
  "kernelspec": {
   "display_name": ".venv",
   "language": "python",
   "name": "python3"
  },
  "language_info": {
   "codemirror_mode": {
    "name": "ipython",
    "version": 3
   },
   "file_extension": ".py",
   "mimetype": "text/x-python",
   "name": "python",
   "nbconvert_exporter": "python",
   "pygments_lexer": "ipython3",
   "version": "3.11.3"
  },
  "orig_nbformat": 4
 },
 "nbformat": 4,
 "nbformat_minor": 2
}
