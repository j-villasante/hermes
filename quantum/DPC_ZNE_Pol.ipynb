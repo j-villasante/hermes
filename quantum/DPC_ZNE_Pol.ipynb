{
 "cells": [
  {
   "cell_type": "code",
   "execution_count": 13,
   "id": "555c659a-e78a-4c77-ad26-a5d8e1b18fd3",
   "metadata": {
    "tags": []
   },
   "outputs": [],
   "source": [
    "from qiskit import QuantumCircuit, transpile\n",
    "import numpy as np\n",
    "from qiskit.visualization import *\n",
    "import matplotlib.pyplot as plt\n",
    "import math\n",
    "from itertools import repeat\n",
    "from qiskit.transpiler.preset_passmanagers import generate_preset_pass_manager\n",
    "from math import pi\n",
    "from qiskit.primitives import Sampler as PrimitiveSampler\n",
    "from qiskit_ibm_runtime import Session, Sampler, Options\n",
    "from qiskit_ibm_runtime import QiskitRuntimeService\n",
    "\n",
    "service = QiskitRuntimeService(\n",
    "    channel='ibm_quantum',\n",
    "    instance='ibm-q/open/main',\n",
    "    token='f219a915892b0bd40aa07d0a9ff142343fc9ca52a0072fe521f6596e4abfc19bd155e6d6b25c70c31d7f9dbe960ac57e40e305da34c7a086343f21e54df3779f'\n",
    ")\n",
    "\n",
    "# Or save your credentials on disk.\n",
    "# QiskitRuntimeService.save_account(channel='ibm_quantum', instance='ibm-q/open/main', token='77c4fd44d223c6449ccd19f492a7a3d3ec15c32067d6a862fb40aefe4fea96376a2e5e34bb5c2817aedc51576224da7d0da4138eaca260a22d9ed48b92d8734d')\n",
    "\n",
    "s1=[]\n",
    "s2=[]\n",
    "s3=[]\n",
    "s4=[]\n",
    "t=[]\n",
    "d1=[]\n",
    "d2=[]\n",
    "d3=[]\n",
    "d4=[]\n",
    "C=[]\n",
    "C_AB=[]\n",
    "dC_AB=[]\n",
    "dC=[]\n",
    "P_A=[]\n",
    "r=5\n",
    "c=5\n",
    "N=4000\n",
    "paso=5\n",
    "#backend = service.get_backend(\"ibm_brisbane\")\n",
    "backend = service.get_backend(\"ibm_brisbane\")"
   ]
  },
  {
   "cell_type": "code",
   "execution_count": 3,
   "id": "9d51d112-6d2b-491c-af9c-5cbe538a89d1",
   "metadata": {
    "tags": []
   },
   "outputs": [],
   "source": [
    "#5-6-7\n",
    "def build_circuit(p, thet, zne):\n",
    "    alfa=2*np.arccos(np.sqrt(3*p/4))\n",
    "    beta=2*np.arccos(np.sqrt(1/3))\n",
    "    \n",
    "    theta=paso*thet*np.pi/180\n",
    "    \n",
    "    q=QuantumCircuit(17,2) \n",
    "    q.ry(np.pi-alfa,9)\n",
    "    q.cry(beta,9,8)\n",
    "    q.x(9)\n",
    "    q.cry(-np.pi/2,8,9)\n",
    "    q.x(8)\n",
    "    q.cx(8,16)\n",
    "    q.cry(np.pi-2*theta,16,7)\n",
    "    q.cx(9,8)\n",
    "    q.cx(9,7)\n",
    "    q.cz(8,7)\n",
    "    q.cx(7,16)\n",
    "\n",
    "    \n",
    "    i = zne\n",
    "    qf = q\n",
    "    while i > 0:\n",
    "        qf = qf.compose(q.inverse())\n",
    "        qf = qf.compose(q)\n",
    "        i -= 1\n",
    "\n",
    "    qf.measure([7,16],[0,1]) \n",
    "    return qf"
   ]
  },
  {
   "cell_type": "code",
   "execution_count": 14,
   "id": "ce46416c-b392-4da0-97fb-d1cec7a218ef",
   "metadata": {
    "tags": []
   },
   "outputs": [],
   "source": [
    "s_size = 5\n",
    "angles = 5\n",
    "zne_size = 4\n",
    "p = 0.2\n",
    "\n",
    "circuits = []\n",
    "#thetas = np.linspace(0.1, pi / 2 - 0.1, angles)\n",
    "thetas=np.array([1,4,9,14,17])\n",
    "for t in thetas:\n",
    "    for i in range(zne_size):\n",
    "        circuits.extend(repeat(build_circuit(p, t, i), s_size))\n",
    "\n",
    "pm = generate_preset_pass_manager(target=backend.target, optimization_level=0)\n",
    "isa_circuits = pm.run(circuits)\n",
    "\n",
    "options = Options()\n",
    "options.resilience_level = 1\n",
    "\n",
    "sampler = Sampler(backend, options=options) \n",
    "job = sampler.run(isa_circuits, shots=N)\n",
    "counts=job.result().quasi_dists\n",
    "\n",
    "temp1=[]\n",
    "temp2=[]\n",
    "temp3=[]\n",
    "temp4=[]\n",
    "\n",
    "for m in range(5):\n",
    "    for i in range(4):\n",
    "        for j in range(i*5+20*m,(i+1)*5+20*m):\n",
    "            temp1.append(counts[j].binary_probabilities().get('00',0))\n",
    "            temp2.append(counts[j].binary_probabilities().get('01',0))\n",
    "            temp3.append(counts[j].binary_probabilities().get('10',0))\n",
    "            temp4.append(counts[j].binary_probabilities().get('11',0))\n",
    "\n",
    "        d1=np.std(temp1)\n",
    "        d2=np.std(temp2)\n",
    "        d3=np.std(temp3)\n",
    "        d4=np.std(temp4)\n",
    "        s1=sum(temp1)/c#pxh\n",
    "        s2=sum(temp2)/c#pyh\n",
    "        s3=sum(temp3)/c#pxv\n",
    "        s4=sum(temp4)/c#pyv\n",
    "        temp1=[]\n",
    "        temp2=[]\n",
    "        temp3=[]\n",
    "        temp4=[] \n",
    "        C.append(np.abs(s1-s2+s3-s4))\n",
    "        dC.append(np.sqrt(d1**2+d2**2+d3**2+d4**2))\n",
    "    \n",
    "    #y=a*exp(b*x)   \n",
    "    #ln(y)=ln(a)+b*x   \n",
    "    #fit(1)=ln(a)\n",
    "    #fit(0)=b   \n",
    "    #ln(y)=fit(1)+fit(0)*x\n",
    "\n",
    "    dCp=([g1/g2 for g1,g2 in zip(dC,C)])\n",
    "\n",
    "    u=[1,3,5,7]\n",
    "    fit = np.polyfit(u, np.log(C), 1)\n",
    "    #######################  \n",
    "    s1d2=sum([1/g2**2 for g2 in dCp])\n",
    "    ud2=sum([g1/g2**2 for g1,g2 in zip(u,dCp)])\n",
    "    u2d2=sum([g1**2/g2**2 for g1,g2 in zip(u,dCp)])\n",
    "    D=s1d2*u2d2-ud2**2\n",
    "    dC=[]\n",
    "    C=[]\n",
    "    #######################\n",
    "    C_AB.append(np.exp(fit[1])) \n",
    "    dC_AB.append(np.sqrt(u2d2/D)*np.exp(fit[1]))    \n",
    "\n",
    "\n",
    "the=np.array([1,4,9,14,17])    \n",
    "ts=[paso*np.pi*k/180 for k in the] "
   ]
  },
  {
   "cell_type": "code",
   "execution_count": 15,
   "id": "4b3cb88d-fafa-4a6a-a6a3-e2c061d0212c",
   "metadata": {
    "tags": []
   },
   "outputs": [
    {
     "data": {
      "text/plain": [
       "[<matplotlib.lines.Line2D at 0x752a14451b90>]"
      ]
     },
     "execution_count": 15,
     "metadata": {},
     "output_type": "execute_result"
    },
    {
     "data": {
      "image/png": "[encoded data removed]",
      "text/plain": [
       "<Figure size 640x480 with 1 Axes>"
      ]
     },
     "metadata": {},
     "output_type": "display_data"
    }
   ],
   "source": [
    "th = np.linspace(0, pi/2, 300,endpoint=True)\n",
    "C = (1-p)*np.abs(np.cos(2*th))\n",
    "\n",
    "#plt.plot(ts,C_AB,'r-')\n",
    "plt.errorbar(ts, C_AB, dC_AB, fmt = 'r.')\n",
    "plt.plot(th,C,'b.', markersize=2)"
   ]
  },
  {
   "cell_type": "code",
   "execution_count": 9,
   "id": "797ac4a8-73fe-478c-866e-377b5242c2d9",
   "metadata": {},
   "outputs": [
    {
     "name": "stdout",
     "output_type": "stream",
     "text": [
      "[0.08726646259971647, 0.3490658503988659, 0.7853981633974483, 1.2217304763960306, 1.4835298641951802]\n",
      "[1.0422832900404022, 0.6972917599284133, 0.0471508877834528, 0.6450280284498788, 0.8001844307251054]\n",
      "[0.040590853442475025, 0.05306748530220275, 0.036702415449485805, 0.06214032602317979, 0.047676357833178494]\n"
     ]
    }
   ],
   "source": [
    "print(ts)\n",
    "print(C_AB)\n",
    "print(dC_AB)"
   ]
  }
 ],
 "metadata": {
  "kernelspec": {
   "display_name": "Qiskit v1.0.2 (ipykernel)",
   "language": "python",
   "name": "python3"
  },
  "language_info": {
   "codemirror_mode": {
    "name": "ipython",
    "version": 3
   },
   "file_extension": ".py",
   "mimetype": "text/x-python",
   "name": "python",
   "nbconvert_exporter": "python",
   "pygments_lexer": "ipython3",
   "version": "3.11.4"
  },
  "widgets": {
   "application/vnd.jupyter.widget-state+json": {
    "state": {},
    "version_major": 2,
    "version_minor": 0
   }
  }
 },
 "nbformat": 4,
 "nbformat_minor": 5
}
