{
 "cells": [
  {
   "cell_type": "code",
   "execution_count": 6,
   "metadata": {},
   "outputs": [],
   "source": [
    "import matplotlib.pyplot as plt\n",
    "import numpy as np\n",
    "\n",
    "import matplotlib.animation as animation"
   ]
  },
  {
   "cell_type": "markdown",
   "metadata": {},
   "source": [
    "### HarmosAnimate"
   ]
  },
  {
   "cell_type": "code",
   "execution_count": 19,
   "metadata": {},
   "outputs": [],
   "source": [
    "dx = 0.04\n",
    "dx2 = dx ** 2\n",
    "k0 = 5.5 * np.pi\n",
    "dt = dx2 / 20\n",
    "xmax = 6\n",
    "\n",
    "xs = np.arange(-xmax, xmax + dx / 2, dx)\n",
    "psr = np.exp(-0.5 * (xs / 0.5) ** 2) * np.cos(k0 * xs)\n",
    "psi = np.exp(-0.5 * (xs / 0.5) ** 2) * np.sin(k0 * xs)\n",
    "v = 15 * xs ** 2\n",
    "\n",
    "fig, ax = plt.subplots()\n",
    "line2 = ax.plot(xs, 4 * (psr ** 2 + psi ** 2))[0]\n",
    "ax.set(ylim=[0, 20])\n",
    "\n",
    "def update(frame):\n",
    "    # update the line plot:\n",
    "    psr[1: -1] = psr[1:-1] - (dt / dx2) * (psi[2:] + psi[:-2] - 2 * psi[1:-1]) + dt * v[1:-1] * psi[1:-1]\n",
    "    psi[1: -1] = psi[1:-1] + (dt / dx2) * (psr[2:] + psr[:-2] - 2 * psr[1:-1]) - dt * v[1:-1] * psr[1:-1]\n",
    "    line2.set_ydata(4 * (psr ** 2 + psi ** 2))\n",
    "    return (scat, line2)\n",
    "\n",
    "\n",
    "ani = animation.FuncAnimation(fig=fig, func=update, frames=40000, interval=30)\n",
    "\n",
    "ani.save(filename=\"./pillow_example.gif\", writer=\"pillow\")\n",
    "\n",
    "plt.show()"
   ]
  }
 ],
 "metadata": {
  "kernelspec": {
   "display_name": ".venv",
   "language": "python",
   "name": "python3"
  },
  "language_info": {
   "codemirror_mode": {
    "name": "ipython",
    "version": 3
   },
   "file_extension": ".py",
   "mimetype": "text/x-python",
   "name": "python",
   "nbconvert_exporter": "python",
   "pygments_lexer": "ipython3",
   "version": "3.11.3"
  }
 },
 "nbformat": 4,
 "nbformat_minor": 2
}
