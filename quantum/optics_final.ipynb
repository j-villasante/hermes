{
 "cells": [
  {
   "cell_type": "code",
   "execution_count": 45,
   "metadata": {},
   "outputs": [],
   "source": [
    "from sympy import Matrix, sqrt, zeros, I, cos, sin, exp, symbols, pi\n",
    "from sympy.physics.paulialgebra import Pauli\n",
    "from sympy.physics.quantum import TensorProduct as ox\n",
    "from sympy.physics.matrices import msigma"
   ]
  },
  {
   "cell_type": "code",
   "execution_count": 48,
   "metadata": {},
   "outputs": [
    {
     "data": {
      "text/latex": [
       "$\\displaystyle \\left[\\begin{matrix}\\frac{\\sqrt{2}}{2}\\\\- \\frac{\\sqrt{2}}{2}\\end{matrix}\\right]$"
      ],
      "text/plain": [
       "Matrix([\n",
       "[ sqrt(2)/2],\n",
       "[-sqrt(2)/2]])"
      ]
     },
     "execution_count": 48,
     "metadata": {},
     "output_type": "execute_result"
    }
   ],
   "source": [
    "H = Matrix([\n",
    "\t[1, 1],\n",
    "\t[1, -1]\n",
    "]) / sqrt(2)\n",
    "\n",
    "H * Matrix([0, 1])"
   ]
  },
  {
   "cell_type": "code",
   "execution_count": 77,
   "metadata": {},
   "outputs": [],
   "source": [
    "H = Matrix([1, 0])\n",
    "V = Matrix([0, 1])\n",
    "\n",
    "s = [msigma(1), msigma(2), msigma(3)]\n",
    "W4 = Matrix([[1, 0], [0, I]])\n",
    "\n",
    "\n",
    "def R(t: float) -> Matrix:\n",
    "    return Matrix([[cos(t), -sin(t)], [sin(t), cos(t)]])\n",
    "\n",
    "\n",
    "def W4T(t: float) -> Matrix:\n",
    "    return R(t) * W4 * R(-t)\n",
    "\n",
    "\n",
    "def dott(a, b):\n",
    "    r = zeros(*b[0].shape)\n",
    "    for i in range(len(a)):\n",
    "        r += a[i] * b[i]\n",
    "\n",
    "    return r\n",
    "\n",
    "\n",
    "def corr(state, x, y):\n",
    "    return (state.H * ox(dott(x, s), dott(y, s)) * state)[0].simplify()\n",
    "\n",
    "\n",
    "def sigma_trace(m):\n",
    "    return Matrix([(m * msigma(i)).trace().simplify() for i in range(1, 4)]) / 2"
   ]
  },
  {
   "cell_type": "code",
   "execution_count": 132,
   "metadata": {},
   "outputs": [
    {
     "data": {
      "text/latex": [
       "$\\displaystyle 2 \\sqrt{2}$"
      ],
      "text/plain": [
       "2*sqrt(2)"
      ]
     },
     "execution_count": 132,
     "metadata": {},
     "output_type": "execute_result"
    }
   ],
   "source": [
    "psi = (ox(H, H) + ox(V, V)) / sqrt(2)\n",
    "\n",
    "a = [0, 0, 1]\n",
    "a_ = [1, 0, 0]\n",
    "b = [1 / sqrt(2), 0, 1 / sqrt(2)]\n",
    "b_ = [-1 / sqrt(2), 0, 1 / sqrt(2)]\n",
    "\n",
    "corr(psi, a, b) + corr(psi, a, b_) + corr(psi, a_, b) - corr(psi, a_, b_)"
   ]
  },
  {
   "cell_type": "code",
   "execution_count": 133,
   "metadata": {},
   "outputs": [
    {
     "data": {
      "text/latex": [
       "$\\displaystyle \\sqrt{2} \\cos{\\left(\\phi \\right)} + \\sqrt{2}$"
      ],
      "text/plain": [
       "sqrt(2)*cos(\\phi) + sqrt(2)"
      ]
     },
     "execution_count": 133,
     "metadata": {},
     "output_type": "execute_result"
    }
   ],
   "source": [
    "phi = symbols(r\"\\phi\", real=True)\n",
    "U1 = U2 = Matrix([[exp(I * phi / 4), 0], [0, exp(-I * phi / 4)]])\n",
    "psi2 = ox(U1, U2) * psi\n",
    "\n",
    "corr(psi2, a, b) + corr(psi2, a, b_) + corr(psi2, a_, b) - corr(psi2, a_, b_)"
   ]
  },
  {
   "cell_type": "code",
   "execution_count": 134,
   "metadata": {},
   "outputs": [
    {
     "data": {
      "text/latex": [
       "$\\displaystyle 2 \\sqrt{2}$"
      ],
      "text/plain": [
       "2*sqrt(2)"
      ]
     },
     "execution_count": 134,
     "metadata": {},
     "output_type": "execute_result"
    }
   ],
   "source": [
    "na = sigma_trace(U1 * dott(a, s) * U1.H)\n",
    "na_ = sigma_trace(U1 * dott(a_, s) * U1.H)\n",
    "\n",
    "nb = sigma_trace(U2 * dott(b, s) * U2.H)\n",
    "nb_ = sigma_trace(U2 * dott(b_, s) * U2.H)\n",
    "\n",
    "(\n",
    "    corr(psi2, na, nb)\n",
    "    + corr(psi2, na, nb_)\n",
    "    + corr(psi2, na_, nb)\n",
    "    - corr(psi2, na_, nb_)\n",
    ").rewrite(cos).simplify()"
   ]
  },
  {
   "cell_type": "code",
   "execution_count": 128,
   "metadata": {},
   "outputs": [],
   "source": [
    "a = [0, 0, 1]\n",
    "a_ = [cos(phi / 2), -sin(phi / 2), 0]\n",
    "b = [cos(phi / 2) / sqrt(2), -sin(phi / 2) / sqrt(2), 1 / sqrt(2)]\n",
    "b_ = [-cos(phi / 2) / sqrt(2), sin(phi / 2) / sqrt(2), 1 / sqrt(2)]"
   ]
  },
  {
   "cell_type": "code",
   "execution_count": 139,
   "metadata": {},
   "outputs": [
    {
     "data": {
      "text/latex": [
       "$\\displaystyle \\left[\\begin{matrix}- \\frac{\\sqrt{2} \\cos{\\left(\\frac{\\phi}{2} \\right)}}{2}\\\\\\frac{\\sqrt{2} \\sin{\\left(\\frac{\\phi}{2} \\right)}}{2}\\\\\\frac{\\sqrt{2}}{2}\\end{matrix}\\right]$"
      ],
      "text/plain": [
       "Matrix([\n",
       "[-sqrt(2)*cos(\\phi/2)/2],\n",
       "[ sqrt(2)*sin(\\phi/2)/2],\n",
       "[             sqrt(2)/2]])"
      ]
     },
     "execution_count": 139,
     "metadata": {},
     "output_type": "execute_result"
    }
   ],
   "source": [
    "nb_"
   ]
  },
  {
   "cell_type": "markdown",
   "metadata": {},
   "source": [
    "### Notas Bell"
   ]
  },
  {
   "cell_type": "code",
   "execution_count": 80,
   "metadata": {},
   "outputs": [
    {
     "data": {
      "text/latex": [
       "$\\displaystyle 2 \\sqrt{2}$"
      ],
      "text/plain": [
       "2*sqrt(2)"
      ]
     },
     "execution_count": 80,
     "metadata": {},
     "output_type": "execute_result"
    }
   ],
   "source": [
    "psi = (ox(H, V) + ox(V, H)) / sqrt(2)\n",
    "\n",
    "a = [1, 0, 0]\n",
    "a_ = [0, 1, 0]\n",
    "b = [1 / sqrt(2), 1 / sqrt(2), 0]\n",
    "b_ = [1 / sqrt(2), -1 / sqrt(2), 0]\n",
    "\n",
    "corr(psi, a, b) + corr(psi, a, b_) + corr(psi, a_, b) - corr(psi, a_, b_)"
   ]
  },
  {
   "cell_type": "code",
   "execution_count": 81,
   "metadata": {},
   "outputs": [
    {
     "data": {
      "text/latex": [
       "$\\displaystyle 0$"
      ],
      "text/plain": [
       "0"
      ]
     },
     "execution_count": 81,
     "metadata": {},
     "output_type": "execute_result"
    }
   ],
   "source": [
    "# After U upon the second qubit\n",
    "\n",
    "U = W4T(0)\n",
    "psi = (ox(H, U * V) + ox(V, U * H)) / sqrt(2)\n",
    "\n",
    "a = [1, 0, 0]\n",
    "a_ = [0, 1, 0]\n",
    "b = [1 / sqrt(2), 1 / sqrt(2), 0]\n",
    "b_ = [1 / sqrt(2), -1 / sqrt(2), 0]\n",
    "\n",
    "corr(psi, a, b) + corr(psi, a, b_) + corr(psi, a_, b) - corr(psi, a_, b_)"
   ]
  },
  {
   "cell_type": "code",
   "execution_count": 82,
   "metadata": {},
   "outputs": [
    {
     "data": {
      "text/latex": [
       "$\\displaystyle 2 \\sqrt{2}$"
      ],
      "text/plain": [
       "2*sqrt(2)"
      ]
     },
     "execution_count": 82,
     "metadata": {},
     "output_type": "execute_result"
    }
   ],
   "source": [
    "# Finding new b. A stays the same.\n",
    "ub = U * dott(b, s) * U.H\n",
    "nb = sigma_trace(ub)\n",
    "\n",
    "ub_ = U * dott(b_, s) * U.H\n",
    "nb_ = sigma_trace(ub_)\n",
    "corr(psi, a, nb) + corr(psi, a, nb_) + corr(psi, a_, nb) - corr(psi, a_, nb_)"
   ]
  }
 ],
 "metadata": {
  "kernelspec": {
   "display_name": ".venv",
   "language": "python",
   "name": "python3"
  },
  "language_info": {
   "codemirror_mode": {
    "name": "ipython",
    "version": 3
   },
   "file_extension": ".py",
   "mimetype": "text/x-python",
   "name": "python",
   "nbconvert_exporter": "python",
   "pygments_lexer": "ipython3",
   "version": "3.11.4"
  }
 },
 "nbformat": 4,
 "nbformat_minor": 2
}
