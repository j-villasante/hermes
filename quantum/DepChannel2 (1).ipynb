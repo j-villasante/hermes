{
 "cells": [
  {
   "cell_type": "code",
   "execution_count": 2,
   "id": "948dce63-c493-471b-8b2f-bfc39af90b93",
   "metadata": {},
   "outputs": [],
   "source": [
    "from qiskit import QuantumCircuit, IBMQ, execute, Aer, transpile\n",
    "import numpy as np\n",
    "from qiskit.tools.jupyter import *\n",
    "from qiskit.visualization import *\n",
    "import qiskit.quantum_info as qi\n",
    "import matplotlib.pyplot as plt\n",
    "from qiskit_aer import AerSimulator\n",
    "import math\n",
    "import pandas as pd\n",
    "from math import pi\n",
    "from qiskit.providers.aer import QasmSimulator\n",
    "from qiskit.providers.fake_provider import FakeVigo\n",
    "#backend=Aer.get_backend('qasm_simulator')\n",
    "s1=[]\n",
    "s2=[]\n",
    "s3=[]\n",
    "s4=[]\n",
    "t=[]\n",
    "t2=[]\n",
    "d1=[]\n",
    "d2=[]\n",
    "d3=[]\n",
    "d4=[]\n",
    "C_AB=[]\n",
    "P_A=[]\n",
    "dC_AB=[]\n",
    "r=25\n",
    "c=20\n",
    "p=0.75\n",
    "paso=4\n",
    "device_backend = FakeVigo()\n",
    "sim_vigo = AerSimulator.from_backend(device_backend)\n",
    "backend=sim_vigo "
   ]
  },
  {
   "cell_type": "code",
   "execution_count": 69,
   "id": "88048660-e1a8-4d7e-a178-dfe4cfbd4de8",
   "metadata": {},
   "outputs": [],
   "source": [
    "#provider = IBMQ.load_account()\n",
    "#provider = IBMQ.get_provider(hub='ibm-q', group='open', project='main')\n",
    "#backend = provider.get_backend('ibmq_lima')"
   ]
  },
  {
   "cell_type": "code",
   "execution_count": 7,
   "id": "95046c92",
   "metadata": {},
   "outputs": [
    {
     "data": {
      "image/png": "[encoded data removed]",
      "text/plain": [
       "<Figure size 1040x451.5 with 1 Axes>"
      ]
     },
     "execution_count": 7,
     "metadata": {},
     "output_type": "execute_result"
    }
   ],
   "source": [
    "def build_circuit(i):\n",
    "    q=QuantumCircuit(4,2)\n",
    "    theta=paso*i*np.pi/180\n",
    "    c1=np.sqrt(np.cos(theta)**2-0.75*p*np.cos(theta)**2+0.25*p*np.sin(theta)**2)\n",
    "    c2=np.sqrt(0.25*p*np.cos(theta)**2+np.sin(theta)**2-0.75*p*np.sin(theta)**2)\n",
    "    \n",
    "    gamma=np.arcsin(0.5*np.sqrt(p)*np.sin(theta)/c1)\n",
    "    beta=np.arcsin(-0.5*np.sqrt(p)*np.cos(theta)/c2)\n",
    "    alfa=np.arcsin(c2/np.sqrt(1-0.5*p))\n",
    "    a1=np.arcsin(-np.sqrt(p)/2)\n",
    "    delta=np.arcsin(np.sqrt((1-0.5*p)/(1-0.25*p)))\n",
    "    \n",
    "    q.x(3)\n",
    "    q.ry(2*a1,0)\n",
    "    q.cx(0,3)\n",
    "    q.cry(2*delta,3,1)\n",
    "    q.cx(1,2)\n",
    "    q.x(3)\n",
    "    q.cry(2*alfa,2,0)\n",
    "    q.cx(0,1)\n",
    "    q.cry((gamma-beta),1,3)\n",
    "    q.cry((-gamma+beta),0,3)\n",
    "    q.cry((gamma+beta),2,3)\n",
    "    q.h(0)\n",
    "    q.h(1)\n",
    "    \n",
    "    q.measure([0,1],[0,1])\n",
    "    return q\n",
    "\n",
    "qc = build_circuit(0)\n",
    "qc.draw(\"mpl\")"
   ]
  },
  {
   "cell_type": "code",
   "execution_count": 70,
   "id": "9916078b-1f60-43f3-a956-e9108c6cdb3f",
   "metadata": {},
   "outputs": [],
   "source": [
    "for i in range(1,r,5):\n",
    "    q=QuantumCircuit(4,2)\n",
    "    theta=paso*i*np.pi/180\n",
    "    c1=np.sqrt(np.cos(theta)**2-0.75*p*np.cos(theta)**2+0.25*p*np.sin(theta)**2)\n",
    "    c2=np.sqrt(0.25*p*np.cos(theta)**2+np.sin(theta)**2-0.75*p*np.sin(theta)**2)\n",
    "    \n",
    "    gamma=np.arcsin(0.5*np.sqrt(p)*np.sin(theta)/c1)\n",
    "    beta=np.arcsin(-0.5*np.sqrt(p)*np.cos(theta)/c2)\n",
    "    alfa=np.arcsin(c2/np.sqrt(1-0.5*p))\n",
    "    a1=np.arcsin(-np.sqrt(p)/2)\n",
    "    delta=np.arcsin(np.sqrt((1-0.5*p)/(1-0.25*p)))\n",
    "    \n",
    "    q.x(3)\n",
    "    q.ry(2*a1,0)\n",
    "    q.cx(0,3)\n",
    "    q.cry(2*delta,3,1)\n",
    "    q.cx(1,2)\n",
    "    q.x(3)\n",
    "    q.cry(2*alfa,2,0)\n",
    "    q.cx(0,1)\n",
    "    q.cry((gamma-beta),1,3)\n",
    "    q.cry((-gamma+beta),0,3)\n",
    "    q.cry((gamma+beta),2,3)\n",
    "    q.h(0)\n",
    "    q.h(1)\n",
    "    \n",
    "    q.measure([0,1],[0,1])\n",
    "    \n",
    "    q2=transpile(q,backend,optimization_level=3)\n",
    "    \n",
    "    \n",
    "    job=execute([q2 for j in range(c)],backend,shots=1000)\n",
    "    counts=job.result().get_counts           \n",
    "    temp1=[]\n",
    "    temp2=[]\n",
    "    temp3=[]\n",
    "    temp4=[]\n",
    "    for j in range(c):\n",
    "        temp1.append(counts(j).get('00',0)/(1000))\n",
    "        temp2.append(counts(j).get('01',0)/(1000))\n",
    "        temp3.append(counts(j).get('10',0)/(1000))\n",
    "        temp4.append(counts(j).get('11',0)/(1000))\n",
    "\n",
    "    d1.append(np.std(temp1))\n",
    "    d2.append(np.std(temp2))\n",
    "    d3.append(np.std(temp3))\n",
    "    d4.append(np.std(temp4))\n",
    "    s1.append(sum(temp1)/c)#pxh\n",
    "    s2.append(sum(temp2)/c)#pyh\n",
    "    s3.append(sum(temp3)/c)#pxv\n",
    "    s4.append(sum(temp4)/c)#pyv\n",
    "\n",
    "    t.append(paso*np.pi*i/180)   \n",
    "C_AB=([np.abs(e1-e2-e3+e4) for e1, e2, e3, e4 in zip(s1,s2,s3,s4)]) \n",
    "dC_AB=([np.sqrt(g1**2+g2**2+g3**2+g4**2) for g1, g2, g3, g4 in zip(d1,d2,d3,d4)])"
   ]
  },
  {
   "cell_type": "code",
   "execution_count": 71,
   "id": "1f8173a9-df9c-47de-bc31-c70485d43df3",
   "metadata": {},
   "outputs": [
    {
     "name": "stdout",
     "output_type": "stream",
     "text": [
      "      theta    C_AB     dC_AB\n",
      "0  0.069813  0.0250  0.017884\n",
      "1  0.418879  0.1378  0.024969\n",
      "2  0.767945  0.1984  0.031560\n",
      "3  1.117011  0.1493  0.026249\n",
      "4  1.466077  0.0463  0.025373\n"
     ]
    }
   ],
   "source": [
    "df = pd.DataFrame()\n",
    "df['theta']=t\n",
    "df['C_AB'] = C_AB\n",
    "df['dC_AB'] = dC_AB\n",
    "\n",
    "print(df)"
   ]
  },
  {
   "cell_type": "code",
   "execution_count": 72,
   "id": "a4b81617-921e-471c-a970-d3e8d5e56a5a",
   "metadata": {},
   "outputs": [],
   "source": [
    "#df.to_csv(\"DPC_2_3_p09.txt\", index=False)"
   ]
  },
  {
   "cell_type": "code",
   "execution_count": 73,
   "id": "8eed2f35-2a2d-45bf-8d38-20d5bdc459c3",
   "metadata": {},
   "outputs": [
    {
     "data": {
      "text/plain": [
       "[<matplotlib.lines.Line2D at 0x7f9d5ed50820>]"
      ]
     },
     "execution_count": 73,
     "metadata": {},
     "output_type": "execute_result"
    },
    {
     "data": {
      "image/png": "[encoded data removed]",
      "text/plain": [
       "<Figure size 640x480 with 1 Axes>"
      ]
     },
     "metadata": {},
     "output_type": "display_data"
    }
   ],
   "source": [
    "plt.errorbar(t, C_AB, dC_AB, fmt = 'r.')\n",
    "th = np.linspace(0, pi/2, 300,endpoint=True)\n",
    "C = (1-p)*np.abs(np.sin(2*th))\n",
    "\n",
    "plt.plot(th,C,'b.')"
   ]
  },
  {
   "cell_type": "code",
   "execution_count": null,
   "id": "9b2cb00b-ad0f-44b6-948e-75fd18537336",
   "metadata": {},
   "outputs": [],
   "source": []
  },
  {
   "cell_type": "code",
   "execution_count": null,
   "id": "a2187db6-6ee9-4d9f-ae1f-d4581e51d7fc",
   "metadata": {},
   "outputs": [],
   "source": [
    "q.x(3)\n",
    "q.ry(2*a1,0)\n",
    "q.cx(0,3)\n",
    "q.cry(2*delta,3,1)\n",
    "q.cx(1,2)\n",
    "q.x(3)\n",
    "q.cry(2*alfa,2,0)\n",
    "q.cx(0,1)\n",
    "q.cry((gamma-beta),1,3)\n",
    "q.cry((-gamma+beta),0,3)\n",
    "q.cry((gamma+beta),2,3)\n",
    "q.h(0)\n",
    "q.h(1)    \n",
    "q.h(1)\n",
    "q.h(0)\n",
    "q.cry((-gamma-beta),2,3)\n",
    "q.cry((gamma-beta),0,3)\n",
    "q.cry((-gamma+beta),1,3)\n",
    "q.cx(0,1)\n",
    "q.cry(-2*alfa,2,0)\n",
    "q.x(3)\n",
    "q.cx(1,2)\n",
    "q.cry(-2*delta,3,1)\n",
    "q.cx(0,3)\n",
    "q.ry(-2*a1,0)\n",
    "q.x(3)"
   ]
  }
 ],
 "metadata": {
  "kernelspec": {
   "display_name": "Python 3 [Default]",
   "language": "python",
   "name": "python3"
  },
  "language_info": {
   "codemirror_mode": {
    "name": "ipython",
    "version": 3
   },
   "file_extension": ".py",
   "mimetype": "text/x-python",
   "name": "python",
   "nbconvert_exporter": "python",
   "pygments_lexer": "ipython3",
   "version": "3.11.4"
  }
 },
 "nbformat": 4,
 "nbformat_minor": 5
}
