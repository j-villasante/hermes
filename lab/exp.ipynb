{
 "cells": [
  {
   "cell_type": "code",
   "execution_count": 1,
   "metadata": {},
   "outputs": [],
   "source": [
    "from PIL import Image\n",
    "\n",
    "import matplotlib.pyplot as plt\n",
    "import numpy as np"
   ]
  },
  {
   "cell_type": "code",
   "execution_count": 40,
   "metadata": {},
   "outputs": [],
   "source": [
    "for i in range(12):\n",
    "\timg = np.asarray(Image.open(f\"lab/images/pos-{i}.tif\"))\n",
    "\n",
    "\ta = img[:, :, 0]\n",
    "\tind = np.unravel_index(np.argmax(a, axis=None), a.shape)\n",
    "\n",
    "\tfig, ax = plt.subplots()\n",
    "\tax.plot(img[:, ind[1], 0])\n",
    "\tplt.savefig(f\"lab/plots/plot-{i}.png\")\n",
    "\tplt.close()"
   ]
  }
 ],
 "metadata": {
  "kernelspec": {
   "display_name": ".venv",
   "language": "python",
   "name": "python3"
  },
  "language_info": {
   "codemirror_mode": {
    "name": "ipython",
    "version": 3
   },
   "file_extension": ".py",
   "mimetype": "text/x-python",
   "name": "python",
   "nbconvert_exporter": "python",
   "pygments_lexer": "ipython3",
   "version": "3.11.4"
  }
 },
 "nbformat": 4,
 "nbformat_minor": 2
}
