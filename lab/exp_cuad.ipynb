{
 "cells": [
  {
   "cell_type": "code",
   "execution_count": 1,
   "metadata": {},
   "outputs": [],
   "source": [
    "from math import pi, sqrt, exp, cos\n",
    "import matplotlib.pyplot as plt\n",
    "import numpy as np\n",
    "from scipy.optimize import curve_fit, fsolve\n",
    "from scipy import integrate"
   ]
  },
  {
   "cell_type": "code",
   "execution_count": 2,
   "metadata": {},
   "outputs": [],
   "source": [
    "import matplotlib\n",
    "\n",
    "matplotlib.rcParams[\"mathtext.fontset\"] = \"stix\"\n",
    "matplotlib.rcParams[\"font.family\"] = \"STIXGeneral\"\n",
    "matplotlib.rc('font', size=12)"
   ]
  },
  {
   "cell_type": "code",
   "execution_count": 3,
   "metadata": {},
   "outputs": [],
   "source": [
    "def f_x0(x, n):\n",
    "    return n\n",
    "\n",
    "def f_x90(x, j, sigma, sx, sy):\n",
    "    return j * np.cos(sigma * x + sx) + sy\n",
    "\n",
    "def find_closest(value, array):\n",
    "    i = 0\n",
    "    while array[i] < value:\n",
    "        i += 1\n",
    "\n",
    "    return i"
   ]
  },
  {
   "cell_type": "code",
   "execution_count": 5,
   "metadata": {},
   "outputs": [
    {
     "name": "stdout",
     "output_type": "stream",
     "text": [
      "0.0106872 0.5496260192014681\n",
      "0.00047679999999999966 0.03254431192704507\n",
      "-0.00017240000000000007 -0.012839649989631241\n",
      "-0.0004601999999999998 -0.04244828335731562\n",
      "-0.00018139999999999953 -0.017639876751226725\n",
      "0.0005214000000000004 0.011125680538267358\n",
      "-2.6000000000006053e-06 -0.04418781034531828\n"
     ]
    }
   ],
   "source": [
    "x90_d_x0 = []\n",
    "x90_a_x0 = []\n",
    "\n",
    "for i in [2, 6, 10, 14, 18, 22, \"A2\"]:\n",
    "    if i == \"A2\":\n",
    "        x0 = np.loadtxt(\"lab/cuad/result_A2_X0_22\")\n",
    "        x90 = np.loadtxt(\"lab/cuad/result_A2_X90_22\")\n",
    "    else:\n",
    "        x0 = np.loadtxt(f\"lab/cuad/result_X0_{i}\")\n",
    "        x90 = np.loadtxt(f\"lab/cuad/result_X90_{i}\")\n",
    "\n",
    "    x0 *= 2.0e-2\n",
    "    x90 *= 2.0e-2\n",
    "\n",
    "    t = np.arange(0, x0.shape[0] * 2.0e-5, step=2.0e-5)\n",
    "\n",
    "    (n) = curve_fit(f_x0, t, x0, p0=(1,))[0]\n",
    "    (j, sigma, sx, sy) = curve_fit(f_x90, t, x90, p0=(0.30, 400, 1, 0.5))[0]\n",
    "\n",
    "    fig, ax = plt.subplots()\n",
    "    ax.plot(t, x0, linewidth=0.3)\n",
    "    ax.plot(t, x90, linewidth=0.3)\n",
    "\n",
    "    ax.plot(t, np.repeat(n, 2500))\n",
    "    ax.plot(t, f_x90(t, j, sigma, sx, sy))\n",
    "    # ax.plot([(2 * pi - sx) / sigma], [f_x90(-sx / sigma, j, sigma, sx, sy)], \"o\")\n",
    "    # ax.plot([(4 * pi - sx) / sigma], [f_x90(-sx / sigma, j, sigma, sx, sy)], \"o\")\n",
    "\n",
    "    ia = find_closest((2.5 * pi - sx) / sigma, t)\n",
    "    ib = find_closest((4.5 * pi - sx) / sigma, t)\n",
    "    ax.plot(t[ia], x90[ia], \"o\")\n",
    "    ax.plot(t[ib], x90[ib], \"o\")\n",
    "\n",
    "    res_int = integrate.trapezoid(x90[ia:ib], t[ia:ib])\n",
    "    print(res_int, sy)\n",
    "\n",
    "    if i != \"A2\":\n",
    "        x90_d_x0.append(np.average((x90[ia:ib] / x0[ia:ib]) ** 2))\n",
    "        x90_a_x0.append(np.average(x90[ia:ib] ** 2 + x0[ia:ib] ** 2))\n",
    "\n",
    "    plt.figtext(0.15, 0.84, f\"$J_0(\\\\beta)={n[0]:.2f}$\")\n",
    "    plt.figtext(0.15, 0.15, f\"$J_1(\\\\beta)={j / 2:.2f}, \\Omega={sigma:.2f}$\")\n",
    "\n",
    "    plt.xlabel(\"Segundos\")\n",
    "    plt.ylabel(\"Voltios\")\n",
    "\n",
    "    plt.savefig(f\"lab/cuad/plots/plot-{i}.pdf\")\n",
    "    plt.close()\n",
    "\n",
    "angles = np.array([2, 6, 10, 14, 18, 22])\n",
    "\n",
    "fig, ax = plt.subplots()\n",
    "ax.plot(angles, x90_d_x0, \"o\", label=r\"$\\langle X_{\\pi/2} / {X_0} \\rangle$\")\n",
    "plt.legend()\n",
    "\n",
    "plt.xlabel(\"Ángulo (sexagesimal) de la lámina retardadora $\\lambda/2$\")\n",
    "plt.savefig(\"lab/cuad/plots/division_average.pdf\")\n",
    "plt.close()\n",
    "\n",
    "fig, ax = plt.subplots()\n",
    "ax.plot(angles, x90_a_x0, \"o\")\n",
    "\n",
    "x = np.linspace(2, 22)\n",
    "y = np.sin(4 * (x * np.pi / 180)) ** 2\n",
    "ax.plot(x, y, label=r\"$\\sin^2(4\\theta)$\")\n",
    "\n",
    "ax.plot(angles, x90_a_x0, \"o\", label=r\"$\\langle X_{\\pi/2}^2 + X_0^2 \\rangle$\")\n",
    "plt.legend()\n",
    "plt.xlabel(\"Ángulo (sexagesimal) de la lámina retardadora $\\lambda/2$\")\n",
    "plt.savefig(\"lab/cuad/plots/addition_average.pdf\")\n",
    "plt.close()"
   ]
  }
 ],
 "metadata": {
  "kernelspec": {
   "display_name": ".venv",
   "language": "python",
   "name": "python3"
  },
  "language_info": {
   "codemirror_mode": {
    "name": "ipython",
    "version": 3
   },
   "file_extension": ".py",
   "mimetype": "text/x-python",
   "name": "python",
   "nbconvert_exporter": "python",
   "pygments_lexer": "ipython3",
   "version": "3.11.4"
  }
 },
 "nbformat": 4,
 "nbformat_minor": 2
}
