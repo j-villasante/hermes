{
 "cells": [
  {
   "cell_type": "code",
   "execution_count": 1,
   "metadata": {},
   "outputs": [],
   "source": [
    "from math import pi, sqrt, exp, cos\n",
    "import matplotlib.pyplot as plt\n",
    "import numpy as np\n",
    "from scipy.optimize import curve_fit, fsolve"
   ]
  },
  {
   "cell_type": "code",
   "execution_count": 61,
   "metadata": {},
   "outputs": [],
   "source": [
    "import matplotlib\n",
    "\n",
    "matplotlib.rcParams[\"mathtext.fontset\"] = \"stix\"\n",
    "matplotlib.rcParams[\"font.family\"] = \"STIXGeneral\"\n",
    "matplotlib.rc('font', size=12)"
   ]
  },
  {
   "cell_type": "code",
   "execution_count": 55,
   "metadata": {},
   "outputs": [],
   "source": [
    "def f_x0(x, n):\n",
    "\treturn n\n",
    "\n",
    "def f_x90(x, j, sigma, sx, sy):\n",
    "\treturn j * np.cos(sigma * x + sx) + sy"
   ]
  },
  {
   "cell_type": "code",
   "execution_count": 89,
   "metadata": {},
   "outputs": [],
   "source": [
    "for i in [2, 6, 10, 14, 18, 22, \"A2\"]:\n",
    "\tif i == \"A2\":\n",
    "\t\tx0 = np.loadtxt(\"lab/cuad/result_A2_X0_22\")\n",
    "\t\tx90 = np.loadtxt(\"lab/cuad/result_A2_X90_22\")\n",
    "\telse:\n",
    "\t\tx0 = np.loadtxt(f\"lab/cuad/result_X0_{i}\")\n",
    "\t\tx90 = np.loadtxt(f\"lab/cuad/result_X90_{i}\")\n",
    "\t\n",
    "\tx0 *= 2.0E-2\n",
    "\tx90 *= 2.0E-2\n",
    "\t\n",
    "\tt = np.arange(0, x0.shape[0] * 2.0E-5, step=2.0E-5)\n",
    "\n",
    "\t(n) = curve_fit(f_x0, t, x0, p0=(1,))[0]\n",
    "\t(j, sigma, sx, sy) = curve_fit(f_x90, t, x90, p0=(0.30, 400, 1, 0.5))[0]\n",
    "\n",
    "\tfig, ax = plt.subplots()\n",
    "\tax.plot(t, x0, linewidth=0.3)\n",
    "\tax.plot(t, x90, linewidth=0.3)\n",
    "\n",
    "\tax.plot(t, np.repeat(n, 2500))\n",
    "\tax.plot(t, f_x90(t, j, sigma, sx, sy))\n",
    "\t\n",
    "\tplt.figtext(0.15, 0.84, f\"$J_0(\\\\beta)={n[0]:.2f}$\")\n",
    "\tplt.figtext(0.15, 0.15, f\"$J_1(\\\\beta)={j / 2:.2f}, \\sigma={sigma:.2f}$\")\n",
    "\n",
    "\tplt.xlabel (\"Segundos\")\n",
    "\tplt.ylabel (\"Voltios\")\n",
    "\n",
    "\tplt.savefig(f\"lab/cuad/plots/plot-{i}.pdf\")\n",
    "\tplt.close()"
   ]
  }
 ],
 "metadata": {
  "kernelspec": {
   "display_name": ".venv",
   "language": "python",
   "name": "python3"
  },
  "language_info": {
   "codemirror_mode": {
    "name": "ipython",
    "version": 3
   },
   "file_extension": ".py",
   "mimetype": "text/x-python",
   "name": "python",
   "nbconvert_exporter": "python",
   "pygments_lexer": "ipython3",
   "version": "3.11.4"
  }
 },
 "nbformat": 4,
 "nbformat_minor": 2
}
